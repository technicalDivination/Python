{
  "nbformat": 4,
  "nbformat_minor": 0,
  "metadata": {
    "colab": {
      "provenance": [],
      "authorship_tag": "ABX9TyOW9Vy36wyhe9a7XsNHrgV7",
      "include_colab_link": true
    },
    "kernelspec": {
      "name": "python3",
      "display_name": "Python 3"
    },
    "language_info": {
      "name": "python"
    }
  },
  "cells": [
    {
      "cell_type": "markdown",
      "metadata": {
        "id": "view-in-github",
        "colab_type": "text"
      },
      "source": [
        "<a href=\"https://colab.research.google.com/github/technicalDivination/Python/blob/main/commonLibraries/numpy/numpy101.ipynb\" target=\"_parent\"><img src=\"https://colab.research.google.com/assets/colab-badge.svg\" alt=\"Open In Colab\"/></a>"
      ]
    },
    {
      "cell_type": "code",
      "execution_count": 1,
      "metadata": {
        "id": "EgxyCvMc5hj_"
      },
      "outputs": [],
      "source": [
        "import numpy as np\n",
        "import matplotlib.pyplot as plt"
      ]
    },
    {
      "cell_type": "markdown",
      "source": [
        "# Random Numbers\n",
        "\n",
        "## normal distribution"
      ],
      "metadata": {
        "id": "d8zwrGer-D7S"
      }
    },
    {
      "cell_type": "code",
      "source": [
        "a = np.random.normal(0,1,(10000,))"
      ],
      "metadata": {
        "id": "0n7MQN-P5lU7"
      },
      "execution_count": 11,
      "outputs": []
    },
    {
      "cell_type": "code",
      "source": [
        "plt.hist(a, bins = 100, alpha= 0.8)\n",
        "plt.hist(a*2, bins = 100, alpha= 0.8)\n",
        "plt.show()"
      ],
      "metadata": {
        "id": "EObDy4iU8LQ2",
        "outputId": "69fddca1-487e-4b27-f7c6-aaf804e87543",
        "colab": {
          "base_uri": "https://localhost:8080/",
          "height": 265
        }
      },
      "execution_count": 20,
      "outputs": [
        {
          "output_type": "display_data",
          "data": {
            "text/plain": [
              "<Figure size 432x288 with 1 Axes>"
            ],
            "image/png": "[encoded data removed]"
          },
          "metadata": {
            "needs_background": "light"
          }
        }
      ]
    },
    {
      "cell_type": "markdown",
      "source": [
        "## lognormal distribution"
      ],
      "metadata": {
        "id": "vZvBfkWy-4ZX"
      }
    },
    {
      "cell_type": "code",
      "source": [
        "plt.hist(np.random.lognormal(0,1,(10000,)), bins=100, alpha = 0.75)\n",
        "plt.hist(np.random.lognormal(0,1,(10000,))*2, bins=100, alpha = 0.75)\n",
        "plt.xlim=5\n",
        "plt.show()"
      ],
      "metadata": {
        "id": "BzDbZ2ht-8bz",
        "outputId": "9a547870-2d26-4803-e0f7-4301d67c8abf",
        "colab": {
          "base_uri": "https://localhost:8080/",
          "height": 265
        }
      },
      "execution_count": 35,
      "outputs": [
        {
          "output_type": "display_data",
          "data": {
            "text/plain": [
              "<Figure size 432x288 with 1 Axes>"
            ],
            "image/png": "[encoded data removed]"
          },
          "metadata": {
            "needs_background": "light"
          }
        }
      ]
    },
    {
      "cell_type": "code",
      "source": [
        "?np.random"
      ],
      "metadata": {
        "id": "sm90VJS1__iz"
      },
      "execution_count": 36,
      "outputs": []
    },
    {
      "cell_type": "markdown",
      "source": [
        "# np.linspace\n",
        "\n",
        "numpy.linspace(start, stop, num=50, endpoint=True, retstep=False, dtype=None, axis=0)\n"
      ],
      "metadata": {
        "id": "gDI-Bm3C83U3"
      }
    },
    {
      "cell_type": "code",
      "source": [
        "plt.plot(np.linspace(1, 2, 100))\n",
        "plt.show()"
      ],
      "metadata": {
        "id": "io_gJjen8ll7",
        "outputId": "8967492b-b6e8-431a-ec84-50cd8849e74a",
        "colab": {
          "base_uri": "https://localhost:8080/",
          "height": 265
        }
      },
      "execution_count": 19,
      "outputs": [
        {
          "output_type": "display_data",
          "data": {
            "text/plain": [
              "<Figure size 432x288 with 1 Axes>"
            ],
            "image/png": "[encoded data removed]"
          },
          "metadata": {
            "needs_background": "light"
          }
        }
      ]
    },
    {
      "cell_type": "code",
      "source": [],
      "metadata": {
        "id": "ViYHPunj8jgv"
      },
      "execution_count": null,
      "outputs": []
    }
  ]
}