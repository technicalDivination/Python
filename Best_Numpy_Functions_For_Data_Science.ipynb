{
  "metadata": {
    "kernelspec": {
      "language": "python",
      "display_name": "Python 3",
      "name": "python3"
    },
    "language_info": {
      "pygments_lexer": "ipython3",
      "nbconvert_exporter": "python",
      "version": "3.6.4",
      "file_extension": ".py",
      "codemirror_mode": {
        "name": "ipython",
        "version": 3
      },
      "name": "python",
      "mimetype": "text/x-python"
    },
    "colab": {
      "name": "Best Numpy Functions For Data Science",
      "provenance": [],
      "include_colab_link": true
    }
  },
  "nbformat_minor": 0,
  "nbformat": 4,
  "cells": [
    {
      "cell_type": "markdown",
      "metadata": {
        "id": "view-in-github",
        "colab_type": "text"
      },
      "source": [
        "<a href=\"https://colab.research.google.com/github/technicalDivination/Python/blob/main/Best_Numpy_Functions_For_Data_Science.ipynb\" target=\"_parent\"><img src=\"https://colab.research.google.com/assets/colab-badge.svg\" alt=\"Open In Colab\"/></a>"
      ]
    },
    {
      "cell_type": "markdown",
      "source": [
        "<center><h2>Best Numpy Functions For Data Science </h2></center>\n",
        "\n",
        "Numpy stands for numerical python and is a library in python that adds the functionality of large multi-dimensional arrays and matrices. It works as a building block for all the libraries in pydata ecosystem. Numpy is one of the most useful tools for a data scientist that uses python. It can handle large-size data efficiently. One of the biggest reasons to use NumPy is its arrays and multiple scientific functions to work with arrays.\n",
        "\n",
        "> Read The Blog Version Here On **[Medium](https://levelup.gitconnected.com/50-numpy-functions-you-really-needed-for-data-science-fa09e8eb0cf0#3842)**"
      ],
      "metadata": {
        "papermill": {
          "duration": 0.052583,
          "end_time": "2022-06-19T18:06:42.852312",
          "exception": false,
          "start_time": "2022-06-19T18:06:42.799729",
          "status": "completed"
        },
        "tags": [],
        "id": "Q7EIHRDsLcNc"
      }
    },
    {
      "cell_type": "markdown",
      "source": [
        "#### **========𝗧𝗔𝗕𝗟𝗘 𝗢𝗙 𝗖𝗢𝗡𝗧𝗘𝗡𝗧========**\n",
        "- Array Creation Methods\n",
        "- Array Operations\n",
        "- Replacing Values Inside Array\n",
        "- Set Operations\n",
        "- Splitting\n",
        "- Stacking\n",
        "- Comparing Two Arrays\n",
        "- Repeating Array Elements\n",
        "- Einstein Summation Conventions\n",
        "- Statistical Analysis\n",
        "- Array Printing Options\n",
        "- Save and Load Array Data"
      ],
      "metadata": {
        "papermill": {
          "duration": 0.047601,
          "end_time": "2022-06-19T18:06:42.94819",
          "exception": false,
          "start_time": "2022-06-19T18:06:42.900589",
          "status": "completed"
        },
        "tags": [],
        "id": "M_bzUmgALcNg"
      }
    },
    {
      "cell_type": "markdown",
      "source": [
        "<h2 id='createarray'>Array Creation Methods</h2>"
      ],
      "metadata": {
        "papermill": {
          "duration": 0.047357,
          "end_time": "2022-06-19T18:06:43.042839",
          "exception": false,
          "start_time": "2022-06-19T18:06:42.995482",
          "status": "completed"
        },
        "tags": [],
        "id": "uogVMtrALcNg"
      }
    },
    {
      "cell_type": "markdown",
      "source": [
        "### 1. Array\n",
        "It is used to create one-dimensional or multidimensional arrays from scratch.\n",
        "![image.png](attachment:5d9e81cc-5933-4e43-9096-56246ce548a0.png)\n",
        "\n",
        "▪▶**Important params**<br>\n",
        "`dtype`: desired data type for the resultant array.<br>\n",
        "`ndim`: Specify the minimum number of dimensions for the resultant array."
      ],
      "metadata": {
        "papermill": {
          "duration": 0.047521,
          "end_time": "2022-06-19T18:06:43.138018",
          "exception": false,
          "start_time": "2022-06-19T18:06:43.090497",
          "status": "completed"
        },
        "tags": [],
        "id": "3Ksc6pfXLcNh"
      }
    },
    {
      "cell_type": "code",
      "source": [
        "import numpy as np\n",
        "np.array([1,2,3,4,5])"
      ],
      "metadata": {
        "execution": {
          "iopub.execute_input": "2022-06-19T18:06:43.24409Z",
          "iopub.status.busy": "2022-06-19T18:06:43.243378Z",
          "iopub.status.idle": "2022-06-19T18:06:43.26597Z",
          "shell.execute_reply": "2022-06-19T18:06:43.264909Z"
        },
        "papermill": {
          "duration": 0.082545,
          "end_time": "2022-06-19T18:06:43.268521",
          "exception": false,
          "start_time": "2022-06-19T18:06:43.185976",
          "status": "completed"
        },
        "tags": [],
        "id": "-JiYMP7iLcNh"
      },
      "execution_count": null,
      "outputs": []
    },
    {
      "cell_type": "markdown",
      "source": [
        "You can also use this function to convert series or dataframes into a NumPy array."
      ],
      "metadata": {
        "papermill": {
          "duration": 0.046973,
          "end_time": "2022-06-19T18:06:43.36999",
          "exception": false,
          "start_time": "2022-06-19T18:06:43.323017",
          "status": "completed"
        },
        "tags": [],
        "id": "-ERi3T2FLcNi"
      }
    },
    {
      "cell_type": "code",
      "source": [
        "import pandas as pd\n",
        "sex = pd.Series(['Male','Male','Female'])\n",
        "np.array(sex)"
      ],
      "metadata": {
        "execution": {
          "iopub.execute_input": "2022-06-19T18:06:43.466911Z",
          "iopub.status.busy": "2022-06-19T18:06:43.466149Z",
          "iopub.status.idle": "2022-06-19T18:06:43.477177Z",
          "shell.execute_reply": "2022-06-19T18:06:43.476143Z"
        },
        "papermill": {
          "duration": 0.062022,
          "end_time": "2022-06-19T18:06:43.479369",
          "exception": false,
          "start_time": "2022-06-19T18:06:43.417347",
          "status": "completed"
        },
        "tags": [],
        "id": "qMhLWgbZLcNj"
      },
      "execution_count": null,
      "outputs": []
    },
    {
      "cell_type": "markdown",
      "source": [
        "### 2. Linspace\n",
        "Creates an array with evenly spaced float numbers over a specified interval.\n",
        "![image.png](attachment:3c46f8c9-1162-47d6-9eef-f75779931b73.png)\n",
        "**▪▶ Important params**<br>\n",
        "`start`: starting index<br>\n",
        "`end`: last index<br>\n",
        "`num`: number of samples to generate, default = 50."
      ],
      "metadata": {
        "papermill": {
          "duration": 0.046855,
          "end_time": "2022-06-19T18:06:43.573008",
          "exception": false,
          "start_time": "2022-06-19T18:06:43.526153",
          "status": "completed"
        },
        "tags": [],
        "id": "8MYkVq2ULcNj"
      }
    },
    {
      "cell_type": "code",
      "source": [
        "np.linspace(10,100,10)"
      ],
      "metadata": {
        "execution": {
          "iopub.execute_input": "2022-06-19T18:06:43.669456Z",
          "iopub.status.busy": "2022-06-19T18:06:43.66875Z",
          "iopub.status.idle": "2022-06-19T18:06:43.676547Z",
          "shell.execute_reply": "2022-06-19T18:06:43.67575Z"
        },
        "papermill": {
          "duration": 0.058695,
          "end_time": "2022-06-19T18:06:43.678585",
          "exception": false,
          "start_time": "2022-06-19T18:06:43.61989",
          "status": "completed"
        },
        "tags": [],
        "id": "laLqVK7sLcNk"
      },
      "execution_count": null,
      "outputs": []
    },
    {
      "cell_type": "markdown",
      "source": [
        "### 3. Arange\n",
        "Return evenly spaced integer values over a given interval with some step size.\n",
        "![image.png](attachment:5beaf627-a740-46b4-9077-a400c26c2a6a.png)\n",
        "\n",
        "**▪▶Important params**<br>\n",
        "`step`: Space between values."
      ],
      "metadata": {
        "papermill": {
          "duration": 0.046857,
          "end_time": "2022-06-19T18:06:43.772797",
          "exception": false,
          "start_time": "2022-06-19T18:06:43.72594",
          "status": "completed"
        },
        "tags": [],
        "id": "kku3PlMqLcNk"
      }
    },
    {
      "cell_type": "code",
      "source": [
        "np.arange(5,10,2)"
      ],
      "metadata": {
        "execution": {
          "iopub.execute_input": "2022-06-19T18:06:43.869659Z",
          "iopub.status.busy": "2022-06-19T18:06:43.868962Z",
          "iopub.status.idle": "2022-06-19T18:06:43.876155Z",
          "shell.execute_reply": "2022-06-19T18:06:43.875108Z"
        },
        "papermill": {
          "duration": 0.0583,
          "end_time": "2022-06-19T18:06:43.878258",
          "exception": false,
          "start_time": "2022-06-19T18:06:43.819958",
          "status": "completed"
        },
        "tags": [],
        "id": "iCGojO5mLcNk"
      },
      "execution_count": null,
      "outputs": []
    },
    {
      "cell_type": "markdown",
      "source": [
        "### 4. Uniform Samples\n",
        "Generate a random sample from a uniform distribution between lower and higher limit values.\n",
        "![1_zhQK7mUMgKakLHOXre1d3Q.png](attachment:427153ea-a92f-49df-a379-48545f25d604.png)"
      ],
      "metadata": {
        "papermill": {
          "duration": 0.0473,
          "end_time": "2022-06-19T18:06:43.973423",
          "exception": false,
          "start_time": "2022-06-19T18:06:43.926123",
          "status": "completed"
        },
        "tags": [],
        "id": "tQkf6QWELcNl"
      }
    },
    {
      "cell_type": "code",
      "source": [
        "np.random.uniform(5,10,size = 4)"
      ],
      "metadata": {
        "execution": {
          "iopub.execute_input": "2022-06-19T18:06:44.070578Z",
          "iopub.status.busy": "2022-06-19T18:06:44.069908Z",
          "iopub.status.idle": "2022-06-19T18:06:44.077206Z",
          "shell.execute_reply": "2022-06-19T18:06:44.076225Z"
        },
        "papermill": {
          "duration": 0.058109,
          "end_time": "2022-06-19T18:06:44.07928",
          "exception": false,
          "start_time": "2022-06-19T18:06:44.021171",
          "status": "completed"
        },
        "tags": [],
        "id": "zuy6KoGFLcNl"
      },
      "execution_count": null,
      "outputs": []
    },
    {
      "cell_type": "code",
      "source": [
        "np.random.uniform(size = 5)"
      ],
      "metadata": {
        "execution": {
          "iopub.execute_input": "2022-06-19T18:06:44.177589Z",
          "iopub.status.busy": "2022-06-19T18:06:44.176979Z",
          "iopub.status.idle": "2022-06-19T18:06:44.184516Z",
          "shell.execute_reply": "2022-06-19T18:06:44.183416Z"
        },
        "papermill": {
          "duration": 0.059396,
          "end_time": "2022-06-19T18:06:44.186663",
          "exception": false,
          "start_time": "2022-06-19T18:06:44.127267",
          "status": "completed"
        },
        "tags": [],
        "id": "UJMWCXmGLcNl"
      },
      "execution_count": null,
      "outputs": []
    },
    {
      "cell_type": "code",
      "source": [
        "np.random.uniform(size = (2,3))"
      ],
      "metadata": {
        "execution": {
          "iopub.execute_input": "2022-06-19T18:06:44.286031Z",
          "iopub.status.busy": "2022-06-19T18:06:44.285362Z",
          "iopub.status.idle": "2022-06-19T18:06:44.292751Z",
          "shell.execute_reply": "2022-06-19T18:06:44.291723Z"
        },
        "papermill": {
          "duration": 0.059436,
          "end_time": "2022-06-19T18:06:44.294831",
          "exception": false,
          "start_time": "2022-06-19T18:06:44.235395",
          "status": "completed"
        },
        "tags": [],
        "id": "9vsM0KyHLcNl"
      },
      "execution_count": null,
      "outputs": []
    },
    {
      "cell_type": "markdown",
      "source": [
        "### 5. Random.randint\n",
        "Generate n random integer samples within a range.\n",
        "![1_VvCmQnn8u_OyIixZfkyZbw.png](attachment:51b49e32-2fe3-4d07-b218-ade8d73c7244.png)"
      ],
      "metadata": {
        "papermill": {
          "duration": 0.048411,
          "end_time": "2022-06-19T18:06:44.391731",
          "exception": false,
          "start_time": "2022-06-19T18:06:44.34332",
          "status": "completed"
        },
        "tags": [],
        "id": "CC00ezQHLcNl"
      }
    },
    {
      "cell_type": "code",
      "source": [
        "np.random.randint(5,10,10)"
      ],
      "metadata": {
        "execution": {
          "iopub.execute_input": "2022-06-19T18:06:44.489695Z",
          "iopub.status.busy": "2022-06-19T18:06:44.489292Z",
          "iopub.status.idle": "2022-06-19T18:06:44.4959Z",
          "shell.execute_reply": "2022-06-19T18:06:44.49487Z"
        },
        "papermill": {
          "duration": 0.058634,
          "end_time": "2022-06-19T18:06:44.498327",
          "exception": false,
          "start_time": "2022-06-19T18:06:44.439693",
          "status": "completed"
        },
        "tags": [],
        "id": "4QXRJiBBLcNl"
      },
      "execution_count": null,
      "outputs": []
    },
    {
      "cell_type": "markdown",
      "source": [
        "### 6. Random.random\n",
        "Generate n random float samples.![1_FPvTLpPERIOAEGSTRdBPAw.png](attachment:3030a88f-9347-400a-a81e-142aa5ebab18.png)"
      ],
      "metadata": {
        "papermill": {
          "duration": 0.048204,
          "end_time": "2022-06-19T18:06:44.594799",
          "exception": false,
          "start_time": "2022-06-19T18:06:44.546595",
          "status": "completed"
        },
        "tags": [],
        "id": "Hdbjaz-dLcNm"
      }
    },
    {
      "cell_type": "code",
      "source": [
        "np.random.random(3)"
      ],
      "metadata": {
        "execution": {
          "iopub.execute_input": "2022-06-19T18:06:44.693743Z",
          "iopub.status.busy": "2022-06-19T18:06:44.693131Z",
          "iopub.status.idle": "2022-06-19T18:06:44.699987Z",
          "shell.execute_reply": "2022-06-19T18:06:44.699116Z"
        },
        "papermill": {
          "duration": 0.058394,
          "end_time": "2022-06-19T18:06:44.701995",
          "exception": false,
          "start_time": "2022-06-19T18:06:44.643601",
          "status": "completed"
        },
        "tags": [],
        "id": "5Syr1JAULcNm"
      },
      "execution_count": null,
      "outputs": []
    },
    {
      "cell_type": "markdown",
      "source": [
        "### 7. Logspace\n",
        "Generate evenly spaced numbers on a log scale.![1_k6E0IikIX7zTmyPGZy29Eg.png](attachment:b487115a-01aa-4d64-bb87-af104ae4a221.png)\n",
        "\n",
        "**▪▶ Important params**<br>\n",
        "`start`: starting value of the sequence.<br>\n",
        "`end`: last value of the sequence.<br>\n",
        "`endpoint`: if True, the last sample will be included in the sequence.<br>\n",
        "`base`: The base of the log space. default is 10."
      ],
      "metadata": {
        "papermill": {
          "duration": 0.047973,
          "end_time": "2022-06-19T18:06:44.798216",
          "exception": false,
          "start_time": "2022-06-19T18:06:44.750243",
          "status": "completed"
        },
        "tags": [],
        "id": "Dr3q9_T1LcNm"
      }
    },
    {
      "cell_type": "code",
      "source": [
        "np.logspace(0,10,5,base=2)"
      ],
      "metadata": {
        "execution": {
          "iopub.execute_input": "2022-06-19T18:06:44.896777Z",
          "iopub.status.busy": "2022-06-19T18:06:44.896386Z",
          "iopub.status.idle": "2022-06-19T18:06:44.902827Z",
          "shell.execute_reply": "2022-06-19T18:06:44.902173Z"
        },
        "papermill": {
          "duration": 0.058045,
          "end_time": "2022-06-19T18:06:44.90478",
          "exception": false,
          "start_time": "2022-06-19T18:06:44.846735",
          "status": "completed"
        },
        "tags": [],
        "id": "lDOBk5hrLcNm"
      },
      "execution_count": null,
      "outputs": []
    },
    {
      "cell_type": "markdown",
      "source": [
        "### 8. Array of zero\n",
        "np.zeroes function helps to create an array of 0.![1_Hj1ne3gg2wwJ5JQKWx12Jw.png](attachment:fabb507b-f3a1-4c04-bb50-069b5c9f2c65.png)\n",
        "**▪▶ Important params**<br>\n",
        "`shape`: shape of the resultant array.<br>\n",
        "`dtype`: desired data type of resultant array. ‘int’ or default ‘float’"
      ],
      "metadata": {
        "papermill": {
          "duration": 0.048204,
          "end_time": "2022-06-19T18:06:45.000871",
          "exception": false,
          "start_time": "2022-06-19T18:06:44.952667",
          "status": "completed"
        },
        "tags": [],
        "id": "fyz1kJtOLcNm"
      }
    },
    {
      "cell_type": "code",
      "source": [
        "np.zeros((2,3),dtype='int')"
      ],
      "metadata": {
        "execution": {
          "iopub.execute_input": "2022-06-19T18:06:45.099093Z",
          "iopub.status.busy": "2022-06-19T18:06:45.098343Z",
          "iopub.status.idle": "2022-06-19T18:06:45.105434Z",
          "shell.execute_reply": "2022-06-19T18:06:45.104416Z"
        },
        "papermill": {
          "duration": 0.058906,
          "end_time": "2022-06-19T18:06:45.107816",
          "exception": false,
          "start_time": "2022-06-19T18:06:45.04891",
          "status": "completed"
        },
        "tags": [],
        "id": "LSlkHvEbLcNm"
      },
      "execution_count": null,
      "outputs": []
    },
    {
      "cell_type": "code",
      "source": [
        "np.zeros(5)"
      ],
      "metadata": {
        "execution": {
          "iopub.execute_input": "2022-06-19T18:06:45.207463Z",
          "iopub.status.busy": "2022-06-19T18:06:45.206771Z",
          "iopub.status.idle": "2022-06-19T18:06:45.213411Z",
          "shell.execute_reply": "2022-06-19T18:06:45.212659Z"
        },
        "papermill": {
          "duration": 0.058922,
          "end_time": "2022-06-19T18:06:45.215399",
          "exception": false,
          "start_time": "2022-06-19T18:06:45.156477",
          "status": "completed"
        },
        "tags": [],
        "id": "IKyMgGkGLcNm"
      },
      "execution_count": null,
      "outputs": []
    },
    {
      "cell_type": "markdown",
      "source": [
        "### 9. Array of Ones\n",
        "np.ones function helps to create an array of 1.![1_d9VMSaNyH-RMV6sFK_09tQ.png](attachment:df5f7950-3691-4244-8ee1-0f81a76bead4.png)"
      ],
      "metadata": {
        "papermill": {
          "duration": 0.048576,
          "end_time": "2022-06-19T18:06:45.312754",
          "exception": false,
          "start_time": "2022-06-19T18:06:45.264178",
          "status": "completed"
        },
        "tags": [],
        "id": "rnLd7NuRLcNn"
      }
    },
    {
      "cell_type": "code",
      "source": [
        "np.ones((3,4))"
      ],
      "metadata": {
        "execution": {
          "iopub.execute_input": "2022-06-19T18:06:45.41209Z",
          "iopub.status.busy": "2022-06-19T18:06:45.411689Z",
          "iopub.status.idle": "2022-06-19T18:06:45.417623Z",
          "shell.execute_reply": "2022-06-19T18:06:45.416906Z"
        },
        "papermill": {
          "duration": 0.058,
          "end_time": "2022-06-19T18:06:45.419481",
          "exception": false,
          "start_time": "2022-06-19T18:06:45.361481",
          "status": "completed"
        },
        "tags": [],
        "id": "ez4RjTvULcNn"
      },
      "execution_count": null,
      "outputs": []
    },
    {
      "cell_type": "markdown",
      "source": [
        "### 10. Array of k Random Value\n",
        "Creates an n-dimensional array of a random value.![1_dTZrwbRMeMKcekl9ZXsCAw.png](attachment:5a415716-49b1-4b74-a83f-4a688ba3b8da.png)\n",
        "**▪▶ Important params**<br>\n",
        "`fill_value`: Random value to fill inside the array."
      ],
      "metadata": {
        "papermill": {
          "duration": 0.048363,
          "end_time": "2022-06-19T18:06:45.516648",
          "exception": false,
          "start_time": "2022-06-19T18:06:45.468285",
          "status": "completed"
        },
        "tags": [],
        "id": "EjIoRZ2HLcNn"
      }
    },
    {
      "cell_type": "code",
      "source": [
        "np.full((2,4),fill_value=2)"
      ],
      "metadata": {
        "execution": {
          "iopub.execute_input": "2022-06-19T18:06:45.616559Z",
          "iopub.status.busy": "2022-06-19T18:06:45.616176Z",
          "iopub.status.idle": "2022-06-19T18:06:45.622424Z",
          "shell.execute_reply": "2022-06-19T18:06:45.621465Z"
        },
        "papermill": {
          "duration": 0.058751,
          "end_time": "2022-06-19T18:06:45.624681",
          "exception": false,
          "start_time": "2022-06-19T18:06:45.56593",
          "status": "completed"
        },
        "tags": [],
        "id": "gSH6dEwqLcNn"
      },
      "execution_count": null,
      "outputs": []
    },
    {
      "cell_type": "markdown",
      "source": [
        "### 11. Identity\n",
        "Create an identity matrix with specified dimensions.![1_3Vix_RFKBZ0E8jtKaOBMqQ.png](attachment:44f3ebab-84b0-49bf-89ac-72eabfe963a6.png)"
      ],
      "metadata": {
        "papermill": {
          "duration": 0.048524,
          "end_time": "2022-06-19T18:06:45.722158",
          "exception": false,
          "start_time": "2022-06-19T18:06:45.673634",
          "status": "completed"
        },
        "tags": [],
        "id": "NVOgGYrmLcNn"
      }
    },
    {
      "cell_type": "code",
      "source": [
        "np.identity(4)"
      ],
      "metadata": {
        "execution": {
          "iopub.execute_input": "2022-06-19T18:06:45.821177Z",
          "iopub.status.busy": "2022-06-19T18:06:45.820756Z",
          "iopub.status.idle": "2022-06-19T18:06:45.827589Z",
          "shell.execute_reply": "2022-06-19T18:06:45.826518Z"
        },
        "papermill": {
          "duration": 0.05913,
          "end_time": "2022-06-19T18:06:45.829914",
          "exception": false,
          "start_time": "2022-06-19T18:06:45.770784",
          "status": "completed"
        },
        "tags": [],
        "id": "mif3_nfnLcNn"
      },
      "execution_count": null,
      "outputs": []
    },
    {
      "cell_type": "markdown",
      "source": [
        "---"
      ],
      "metadata": {
        "papermill": {
          "duration": 0.048724,
          "end_time": "2022-06-19T18:06:45.927601",
          "exception": false,
          "start_time": "2022-06-19T18:06:45.878877",
          "status": "completed"
        },
        "tags": [],
        "id": "q5bRN7s4LcNn"
      }
    },
    {
      "cell_type": "markdown",
      "source": [
        "## Array Operations"
      ],
      "metadata": {
        "papermill": {
          "duration": 0.048503,
          "end_time": "2022-06-19T18:06:46.025007",
          "exception": false,
          "start_time": "2022-06-19T18:06:45.976504",
          "status": "completed"
        },
        "tags": [],
        "id": "1cvAWwdnLcNn"
      }
    },
    {
      "cell_type": "markdown",
      "source": [
        "### 12. Min\n",
        "Return the minimum value from the array.![1_Iah738_7UqXwT9JBE4tcDw.png](attachment:aa59ef40-ad61-45bd-bda5-0cefd119b849.png)\n",
        "\n",
        "**▪▶ Important params**<br>\n",
        "`axis`: axis along which to operate.<br>\n",
        "`out`: alternative array to store the output."
      ],
      "metadata": {
        "papermill": {
          "duration": 0.048785,
          "end_time": "2022-06-19T18:06:46.122259",
          "exception": false,
          "start_time": "2022-06-19T18:06:46.073474",
          "status": "completed"
        },
        "tags": [],
        "id": "XmlzRF1gLcNo"
      }
    },
    {
      "cell_type": "code",
      "source": [
        "arr = np.array([1,1,2,3,3,4,5,6,6,2])\n",
        "np.min(arr)"
      ],
      "metadata": {
        "execution": {
          "iopub.execute_input": "2022-06-19T18:06:46.221691Z",
          "iopub.status.busy": "2022-06-19T18:06:46.221076Z",
          "iopub.status.idle": "2022-06-19T18:06:46.229282Z",
          "shell.execute_reply": "2022-06-19T18:06:46.228149Z"
        },
        "papermill": {
          "duration": 0.060508,
          "end_time": "2022-06-19T18:06:46.231571",
          "exception": false,
          "start_time": "2022-06-19T18:06:46.171063",
          "status": "completed"
        },
        "tags": [],
        "id": "nOBVG5DmLcNo"
      },
      "execution_count": null,
      "outputs": []
    },
    {
      "cell_type": "markdown",
      "source": [
        "### 13. Max\n",
        "Return the maximum value from the array.![1_03Nd6aG5QAGXMnTniEWbEw.png](attachment:b7d15408-8edb-4b01-97ba-4a4256788eef.png)"
      ],
      "metadata": {
        "papermill": {
          "duration": 0.048481,
          "end_time": "2022-06-19T18:06:46.328935",
          "exception": false,
          "start_time": "2022-06-19T18:06:46.280454",
          "status": "completed"
        },
        "tags": [],
        "id": "lP4HZXL9LcNo"
      }
    },
    {
      "cell_type": "code",
      "source": [
        "np.max(arr)"
      ],
      "metadata": {
        "execution": {
          "iopub.execute_input": "2022-06-19T18:06:46.429424Z",
          "iopub.status.busy": "2022-06-19T18:06:46.429043Z",
          "iopub.status.idle": "2022-06-19T18:06:46.434946Z",
          "shell.execute_reply": "2022-06-19T18:06:46.434127Z"
        },
        "papermill": {
          "duration": 0.058932,
          "end_time": "2022-06-19T18:06:46.436956",
          "exception": false,
          "start_time": "2022-06-19T18:06:46.378024",
          "status": "completed"
        },
        "tags": [],
        "id": "s4CTdsEfLcNo"
      },
      "execution_count": null,
      "outputs": []
    },
    {
      "cell_type": "markdown",
      "source": [
        "### 14. Unique\n",
        "Return an array with all the unique elements sorted.\n",
        "![1_j_bhHwxowLqPxbAl2XbTmg.png](attachment:5303cd5a-dbc2-426a-9ff6-0afc72fe5260.png)\n",
        "\n",
        "**▪▶ Important params**<br>\n",
        "`return_index`: if True, return the indices of the array.<br>\n",
        "`return_inverse`: if True, return the indices of the unique array.<br>\n",
        "`return_counts`: if True, return the number of times each unique element appears inside the array.<br>\n",
        "`axis`: The axis to operate on. By default, the array is considered flattened."
      ],
      "metadata": {
        "papermill": {
          "duration": 0.048643,
          "end_time": "2022-06-19T18:06:46.535257",
          "exception": false,
          "start_time": "2022-06-19T18:06:46.486614",
          "status": "completed"
        },
        "tags": [],
        "id": "g-1jDNb1LcNo"
      }
    },
    {
      "cell_type": "code",
      "source": [
        "np.unique(arr,return_counts=True)"
      ],
      "metadata": {
        "execution": {
          "iopub.execute_input": "2022-06-19T18:06:46.635868Z",
          "iopub.status.busy": "2022-06-19T18:06:46.635151Z",
          "iopub.status.idle": "2022-06-19T18:06:46.642445Z",
          "shell.execute_reply": "2022-06-19T18:06:46.641363Z"
        },
        "papermill": {
          "duration": 0.059589,
          "end_time": "2022-06-19T18:06:46.644426",
          "exception": false,
          "start_time": "2022-06-19T18:06:46.584837",
          "status": "completed"
        },
        "tags": [],
        "id": "p1kJRKBaLcNo"
      },
      "execution_count": null,
      "outputs": []
    },
    {
      "cell_type": "markdown",
      "source": [
        "### 15. Mean\n",
        "It is used to get the mean of the array.![1_uotYccJmQ5uxlFk1yv7HhA.png](attachment:14285ad7-296e-46be-9ec9-c1a803e796b8.png)"
      ],
      "metadata": {
        "papermill": {
          "duration": 0.048777,
          "end_time": "2022-06-19T18:06:46.742641",
          "exception": false,
          "start_time": "2022-06-19T18:06:46.693864",
          "status": "completed"
        },
        "tags": [],
        "id": "wPFjy5HFLcNo"
      }
    },
    {
      "cell_type": "code",
      "source": [
        "np.mean(arr,dtype='int')"
      ],
      "metadata": {
        "execution": {
          "iopub.execute_input": "2022-06-19T18:06:46.843172Z",
          "iopub.status.busy": "2022-06-19T18:06:46.842522Z",
          "iopub.status.idle": "2022-06-19T18:06:46.849462Z",
          "shell.execute_reply": "2022-06-19T18:06:46.848446Z"
        },
        "papermill": {
          "duration": 0.06001,
          "end_time": "2022-06-19T18:06:46.851419",
          "exception": false,
          "start_time": "2022-06-19T18:06:46.791409",
          "status": "completed"
        },
        "tags": [],
        "id": "f0kHuG5rLcNt"
      },
      "execution_count": null,
      "outputs": []
    },
    {
      "cell_type": "markdown",
      "source": [
        "### 16. Median\n",
        "Return the median value of the array.![1_sSs_cxxBBgUlHGQ2IGoboA.png](attachment:d8784034-2618-408c-84ab-a9dc96b08520.png)"
      ],
      "metadata": {
        "papermill": {
          "duration": 0.049733,
          "end_time": "2022-06-19T18:06:46.95041",
          "exception": false,
          "start_time": "2022-06-19T18:06:46.900677",
          "status": "completed"
        },
        "tags": [],
        "id": "s4xmGay7LcNt"
      }
    },
    {
      "cell_type": "code",
      "source": [
        "arr = np.array([[1,2,3],[5,8,4]])\n",
        "np.median(arr)"
      ],
      "metadata": {
        "execution": {
          "iopub.execute_input": "2022-06-19T18:06:47.05191Z",
          "iopub.status.busy": "2022-06-19T18:06:47.051242Z",
          "iopub.status.idle": "2022-06-19T18:06:47.060886Z",
          "shell.execute_reply": "2022-06-19T18:06:47.059692Z"
        },
        "papermill": {
          "duration": 0.063456,
          "end_time": "2022-06-19T18:06:47.063055",
          "exception": false,
          "start_time": "2022-06-19T18:06:46.999599",
          "status": "completed"
        },
        "tags": [],
        "id": "NM3TfTBWLcNt"
      },
      "execution_count": null,
      "outputs": []
    },
    {
      "cell_type": "markdown",
      "source": [
        "### 17. Digitize\n",
        "Return the indices of the bins to which each value in the input array belongs.![1_WsF4aLzDyYQ4rSraviyMaw.png](attachment:e7f22293-53cb-470a-b09c-e9d7640e6ca9.png)\n",
        "**▪▶ Important params**<br>\n",
        "`bins`: Array of bins.<br>\n",
        "`right`: Indicates whether the interval includes the right or left bin edge."
      ],
      "metadata": {
        "papermill": {
          "duration": 0.050522,
          "end_time": "2022-06-19T18:06:47.163594",
          "exception": false,
          "start_time": "2022-06-19T18:06:47.113072",
          "status": "completed"
        },
        "tags": [],
        "id": "yNKvfGzELcNt"
      }
    },
    {
      "cell_type": "code",
      "source": [
        "a = np.array([-0.9, 0.5, 0.9, 1, 1.2, 1.4, 3.6, 4.7, 5.3])\n",
        "bins = np.array([0,1,2,3])\n",
        "np.digitize(a,bins)"
      ],
      "metadata": {
        "execution": {
          "iopub.execute_input": "2022-06-19T18:06:47.265397Z",
          "iopub.status.busy": "2022-06-19T18:06:47.264733Z",
          "iopub.status.idle": "2022-06-19T18:06:47.273134Z",
          "shell.execute_reply": "2022-06-19T18:06:47.272087Z"
        },
        "papermill": {
          "duration": 0.061728,
          "end_time": "2022-06-19T18:06:47.275224",
          "exception": false,
          "start_time": "2022-06-19T18:06:47.213496",
          "status": "completed"
        },
        "tags": [],
        "id": "7BKLmyKCLcNu"
      },
      "execution_count": null,
      "outputs": []
    },
    {
      "cell_type": "markdown",
      "source": [
        "```\n",
        "Exp        Value\n",
        "x < 0     :   0\n",
        "0 <= x <1 :   1\n",
        "1 <= x <2 :   2\n",
        "2 <= x <3 :   3\n",
        "3 <=x     :   4\n",
        "Compares -0.9 to 0, here x < 0 so Put 0 in resulting array.\n",
        "Compares  0.5 to 0, here 0 <= x <1 so Put 1.\n",
        ".\n",
        "Compares 5.4 to 4, here 3<=x so Put 4\n",
        "```"
      ],
      "metadata": {
        "papermill": {
          "duration": 0.04997,
          "end_time": "2022-06-19T18:06:47.375693",
          "exception": false,
          "start_time": "2022-06-19T18:06:47.325723",
          "status": "completed"
        },
        "tags": [],
        "id": "JZ2x2WyBLcNu"
      }
    },
    {
      "cell_type": "markdown",
      "source": [
        "### 18. Reshape\n",
        "It is one of the most used functions of NumPy. It Returns an array containing the same data with a new shape.![1_sg0TYQZzWYZiTzTpUKC7Og.png](attachment:c9c09732-80c1-461c-baa8-7fb7cd2bc3ae.png)"
      ],
      "metadata": {
        "papermill": {
          "duration": 0.049565,
          "end_time": "2022-06-19T18:06:47.47566",
          "exception": false,
          "start_time": "2022-06-19T18:06:47.426095",
          "status": "completed"
        },
        "tags": [],
        "id": "0Sg0WbIBLcNu"
      }
    },
    {
      "cell_type": "code",
      "source": [
        "A = np.random.randint(15,size=(4,3))\n",
        "A"
      ],
      "metadata": {
        "execution": {
          "iopub.execute_input": "2022-06-19T18:06:47.578566Z",
          "iopub.status.busy": "2022-06-19T18:06:47.577975Z",
          "iopub.status.idle": "2022-06-19T18:06:47.585199Z",
          "shell.execute_reply": "2022-06-19T18:06:47.584093Z"
        },
        "papermill": {
          "duration": 0.06152,
          "end_time": "2022-06-19T18:06:47.587169",
          "exception": false,
          "start_time": "2022-06-19T18:06:47.525649",
          "status": "completed"
        },
        "tags": [],
        "id": "XFrWqNXULcNu"
      },
      "execution_count": null,
      "outputs": []
    },
    {
      "cell_type": "code",
      "source": [
        "A.reshape(3,4)"
      ],
      "metadata": {
        "execution": {
          "iopub.execute_input": "2022-06-19T18:06:47.692936Z",
          "iopub.status.busy": "2022-06-19T18:06:47.69236Z",
          "iopub.status.idle": "2022-06-19T18:06:47.699295Z",
          "shell.execute_reply": "2022-06-19T18:06:47.698201Z"
        },
        "papermill": {
          "duration": 0.062244,
          "end_time": "2022-06-19T18:06:47.701318",
          "exception": false,
          "start_time": "2022-06-19T18:06:47.639074",
          "status": "completed"
        },
        "tags": [],
        "id": "gS7ehwQlLcNu"
      },
      "execution_count": null,
      "outputs": []
    },
    {
      "cell_type": "code",
      "source": [
        "A.reshape(-1)"
      ],
      "metadata": {
        "execution": {
          "iopub.execute_input": "2022-06-19T18:06:47.80681Z",
          "iopub.status.busy": "2022-06-19T18:06:47.80525Z",
          "iopub.status.idle": "2022-06-19T18:06:47.813056Z",
          "shell.execute_reply": "2022-06-19T18:06:47.81209Z"
        },
        "papermill": {
          "duration": 0.062847,
          "end_time": "2022-06-19T18:06:47.815095",
          "exception": false,
          "start_time": "2022-06-19T18:06:47.752248",
          "status": "completed"
        },
        "tags": [],
        "id": "tktXEHRALcNu"
      },
      "execution_count": null,
      "outputs": []
    },
    {
      "cell_type": "markdown",
      "source": [
        "### 19. Expand Dimensions\n",
        "It is used to expand the dimensions of an array. This method is useful for creating sample test data for testing a machine learning model.![1_LTIcxoFlpg-zN87ma4yi8g.png](attachment:8af049c7-9393-4f91-b0aa-98b3bb5a39ff.png)"
      ],
      "metadata": {
        "papermill": {
          "duration": 0.1629,
          "end_time": "2022-06-19T18:06:48.029588",
          "exception": false,
          "start_time": "2022-06-19T18:06:47.866688",
          "status": "completed"
        },
        "tags": [],
        "id": "i3llgT5_LcNu"
      }
    },
    {
      "cell_type": "code",
      "source": [
        "arr = np.array([ 8, 14,  1,  8, 11,  4,  9,  4, 1, 13, 13, 11])\n",
        "np.expand_dims(arr,axis=0)"
      ],
      "metadata": {
        "execution": {
          "iopub.execute_input": "2022-06-19T18:06:48.132288Z",
          "iopub.status.busy": "2022-06-19T18:06:48.13189Z",
          "iopub.status.idle": "2022-06-19T18:06:48.138932Z",
          "shell.execute_reply": "2022-06-19T18:06:48.138142Z"
        },
        "papermill": {
          "duration": 0.060222,
          "end_time": "2022-06-19T18:06:48.140844",
          "exception": false,
          "start_time": "2022-06-19T18:06:48.080622",
          "status": "completed"
        },
        "tags": [],
        "id": "GhZjd42wLcNu"
      },
      "execution_count": null,
      "outputs": []
    },
    {
      "cell_type": "code",
      "source": [
        "np.expand_dims(arr,axis=1)"
      ],
      "metadata": {
        "execution": {
          "iopub.execute_input": "2022-06-19T18:06:48.244185Z",
          "iopub.status.busy": "2022-06-19T18:06:48.243326Z",
          "iopub.status.idle": "2022-06-19T18:06:48.250262Z",
          "shell.execute_reply": "2022-06-19T18:06:48.24917Z"
        },
        "papermill": {
          "duration": 0.060762,
          "end_time": "2022-06-19T18:06:48.252389",
          "exception": false,
          "start_time": "2022-06-19T18:06:48.191627",
          "status": "completed"
        },
        "tags": [],
        "id": "JhxJMj9FLcNv"
      },
      "execution_count": null,
      "outputs": []
    },
    {
      "cell_type": "markdown",
      "source": [
        "## 20. Squeeze\n",
        "Reduce the dimension of an array by removing single-dimensional entrie![1_lFO6q9flt0_bqO_e2oRfWA.png](attachment:ab4bbf86-8472-428a-afbe-d2054e6dbf40.png)"
      ],
      "metadata": {
        "papermill": {
          "duration": 0.05076,
          "end_time": "2022-06-19T18:06:48.354187",
          "exception": false,
          "start_time": "2022-06-19T18:06:48.303427",
          "status": "completed"
        },
        "tags": [],
        "id": "_sqRfPXbLcNv"
      }
    },
    {
      "cell_type": "code",
      "source": [
        "arr = np.array([[ 8],[14],[ 1],[ 8],[11],[ 4],[ 9],[ 4],[ 1],[13],[13],[11]])\n",
        "np.squeeze(arr)"
      ],
      "metadata": {
        "execution": {
          "iopub.execute_input": "2022-06-19T18:06:48.458722Z",
          "iopub.status.busy": "2022-06-19T18:06:48.458296Z",
          "iopub.status.idle": "2022-06-19T18:06:48.465828Z",
          "shell.execute_reply": "2022-06-19T18:06:48.465173Z"
        },
        "papermill": {
          "duration": 0.062101,
          "end_time": "2022-06-19T18:06:48.467872",
          "exception": false,
          "start_time": "2022-06-19T18:06:48.405771",
          "status": "completed"
        },
        "tags": [],
        "id": "1jpGCAteLcNv"
      },
      "execution_count": null,
      "outputs": []
    },
    {
      "cell_type": "markdown",
      "source": [
        "### 21. Count Non-Zero\n",
        "Count all the non-zero elements and return their count.![1_jxsYNB6uHpjMynqgZ1_PFw.png](attachment:af19eaeb-8cd1-483a-97d3-7df03dc10ac5.png)"
      ],
      "metadata": {
        "papermill": {
          "duration": 0.050805,
          "end_time": "2022-06-19T18:06:48.569619",
          "exception": false,
          "start_time": "2022-06-19T18:06:48.518814",
          "status": "completed"
        },
        "tags": [],
        "id": "czmwDGDSLcNv"
      }
    },
    {
      "cell_type": "code",
      "source": [
        "a = np.array([0,0,1,1,1,0])\n",
        "np.count_nonzero(a)"
      ],
      "metadata": {
        "execution": {
          "iopub.execute_input": "2022-06-19T18:06:48.674955Z",
          "iopub.status.busy": "2022-06-19T18:06:48.673961Z",
          "iopub.status.idle": "2022-06-19T18:06:48.681433Z",
          "shell.execute_reply": "2022-06-19T18:06:48.680424Z"
        },
        "papermill": {
          "duration": 0.062604,
          "end_time": "2022-06-19T18:06:48.683715",
          "exception": false,
          "start_time": "2022-06-19T18:06:48.621111",
          "status": "completed"
        },
        "tags": [],
        "id": "_MS4j0_JLcNv"
      },
      "execution_count": null,
      "outputs": []
    },
    {
      "cell_type": "markdown",
      "source": [
        "### 22. argwhere\n",
        "Find and return all the indices of non-zero elements.![1__oc7SUrWanmeNPFKAOedpw.png](attachment:d01111e5-2d51-4537-b9c0-fe74fe015ee8.png)"
      ],
      "metadata": {
        "papermill": {
          "duration": 0.050222,
          "end_time": "2022-06-19T18:06:48.842705",
          "exception": false,
          "start_time": "2022-06-19T18:06:48.792483",
          "status": "completed"
        },
        "tags": [],
        "id": "Kx00o3V4LcNv"
      }
    },
    {
      "cell_type": "code",
      "source": [
        "a = np.array([0,0,1,1,1,0])\n",
        "np.argwhere(a)"
      ],
      "metadata": {
        "execution": {
          "iopub.execute_input": "2022-06-19T18:06:48.945633Z",
          "iopub.status.busy": "2022-06-19T18:06:48.944964Z",
          "iopub.status.idle": "2022-06-19T18:06:48.952469Z",
          "shell.execute_reply": "2022-06-19T18:06:48.951338Z"
        },
        "papermill": {
          "duration": 0.061669,
          "end_time": "2022-06-19T18:06:48.954704",
          "exception": false,
          "start_time": "2022-06-19T18:06:48.893035",
          "status": "completed"
        },
        "tags": [],
        "id": "Y4WWgN7-LcNw"
      },
      "execution_count": null,
      "outputs": []
    },
    {
      "cell_type": "markdown",
      "source": [
        "### 23. argmax & argmin\n",
        "argmax returns the index of the max element from the array. It can be used to get the index of high probability predicted labels in multiclass image classification problems.![1_iHMw3cYjD64NiNQwO7vikQ.png](attachment:ce514e26-6810-443a-a574-a486ec01c48c.png)"
      ],
      "metadata": {
        "papermill": {
          "duration": 0.051057,
          "end_time": "2022-06-19T18:06:49.057268",
          "exception": false,
          "start_time": "2022-06-19T18:06:49.006211",
          "status": "completed"
        },
        "tags": [],
        "id": "7YasELRELcNw"
      }
    },
    {
      "cell_type": "code",
      "source": [
        "arr = np.array([[0.12,0.64,0.19,0.05]])\n",
        "np.argmax(arr)"
      ],
      "metadata": {
        "execution": {
          "iopub.execute_input": "2022-06-19T18:06:49.162483Z",
          "iopub.status.busy": "2022-06-19T18:06:49.162109Z",
          "iopub.status.idle": "2022-06-19T18:06:49.167922Z",
          "shell.execute_reply": "2022-06-19T18:06:49.167201Z"
        },
        "papermill": {
          "duration": 0.06148,
          "end_time": "2022-06-19T18:06:49.17019",
          "exception": false,
          "start_time": "2022-06-19T18:06:49.10871",
          "status": "completed"
        },
        "tags": [],
        "id": "ucAEc5OvLcNw"
      },
      "execution_count": null,
      "outputs": []
    },
    {
      "cell_type": "markdown",
      "source": [
        "argmin will return the index of the lowest element from the array.\n",
        "![1_f5eRCZFBcmKjfAyWhxbhQQ.png](attachment:59b107a2-e041-4846-89e5-e33cc2f4cfa4.png)"
      ],
      "metadata": {
        "papermill": {
          "duration": 0.051535,
          "end_time": "2022-06-19T18:06:49.272519",
          "exception": false,
          "start_time": "2022-06-19T18:06:49.220984",
          "status": "completed"
        },
        "tags": [],
        "id": "12w6JOTvLcNw"
      }
    },
    {
      "cell_type": "code",
      "source": [
        "np.argmin(min)"
      ],
      "metadata": {
        "execution": {
          "iopub.execute_input": "2022-06-19T18:06:49.37775Z",
          "iopub.status.busy": "2022-06-19T18:06:49.377362Z",
          "iopub.status.idle": "2022-06-19T18:06:49.383879Z",
          "shell.execute_reply": "2022-06-19T18:06:49.38283Z"
        },
        "papermill": {
          "duration": 0.061586,
          "end_time": "2022-06-19T18:06:49.386166",
          "exception": false,
          "start_time": "2022-06-19T18:06:49.32458",
          "status": "completed"
        },
        "tags": [],
        "id": "3XDhvTXDLcNw"
      },
      "execution_count": null,
      "outputs": []
    },
    {
      "cell_type": "markdown",
      "source": [
        "### 24. Sort\n",
        "Sort the array and return.![1_P9UmfhqI95AbeWzFKr55Ew.png](attachment:d330b6f0-fa6d-4577-a5a9-3a34f5baf0df.png)\n",
        "\n",
        "**▪▶ Important params**<br>\n",
        "`kind`: Sorting algorithm to use. {‘quicksort’, ‘mergesort’, ‘heapsort’, ‘stable’}"
      ],
      "metadata": {
        "papermill": {
          "duration": 0.05065,
          "end_time": "2022-06-19T18:06:49.488293",
          "exception": false,
          "start_time": "2022-06-19T18:06:49.437643",
          "status": "completed"
        },
        "tags": [],
        "id": "sbfVrD3ULcNw"
      }
    },
    {
      "cell_type": "code",
      "source": [
        "arr = np.array([2,3,1,7,4,5])\n",
        "np.sort(arr)"
      ],
      "metadata": {
        "execution": {
          "iopub.execute_input": "2022-06-19T18:06:49.591343Z",
          "iopub.status.busy": "2022-06-19T18:06:49.590919Z",
          "iopub.status.idle": "2022-06-19T18:06:49.597819Z",
          "shell.execute_reply": "2022-06-19T18:06:49.596912Z"
        },
        "papermill": {
          "duration": 0.060833,
          "end_time": "2022-06-19T18:06:49.599805",
          "exception": false,
          "start_time": "2022-06-19T18:06:49.538972",
          "status": "completed"
        },
        "tags": [],
        "id": "eEOy_WKTLcNx"
      },
      "execution_count": null,
      "outputs": []
    },
    {
      "cell_type": "markdown",
      "source": [
        "### 25. Abs\n",
        "Return the absolute values of elements inside an array. It is useful when an array contains negative values."
      ],
      "metadata": {
        "papermill": {
          "duration": 0.050917,
          "end_time": "2022-06-19T18:06:49.70163",
          "exception": false,
          "start_time": "2022-06-19T18:06:49.650713",
          "status": "completed"
        },
        "tags": [],
        "id": "bNme3v1bLcNx"
      }
    },
    {
      "cell_type": "code",
      "source": [
        "A = np.array([[1,-3,4],[-2,-4,3]])\n",
        "np.abs(A)"
      ],
      "metadata": {
        "execution": {
          "iopub.execute_input": "2022-06-19T18:06:49.805723Z",
          "iopub.status.busy": "2022-06-19T18:06:49.805147Z",
          "iopub.status.idle": "2022-06-19T18:06:49.812689Z",
          "shell.execute_reply": "2022-06-19T18:06:49.811632Z"
        },
        "papermill": {
          "duration": 0.062197,
          "end_time": "2022-06-19T18:06:49.814728",
          "exception": false,
          "start_time": "2022-06-19T18:06:49.752531",
          "status": "completed"
        },
        "tags": [],
        "id": "edPFwVF6LcNx"
      },
      "execution_count": null,
      "outputs": []
    },
    {
      "cell_type": "markdown",
      "source": [
        "### 26. Round\n",
        "Round the float values to a specified number of decimal points.![1_tzU3BQvlByNniXqvhMJO3A.png](attachment:087aae8a-6caf-4477-a48a-ef4924809037.png)\n",
        "\n",
        "**▪▶ Important params**<br>\n",
        "`decimals`: Number of decimals point to keep."
      ],
      "metadata": {
        "papermill": {
          "duration": 0.051799,
          "end_time": "2022-06-19T18:06:49.918273",
          "exception": false,
          "start_time": "2022-06-19T18:06:49.866474",
          "status": "completed"
        },
        "tags": [],
        "id": "Dus3RlnJLcNx"
      }
    },
    {
      "cell_type": "code",
      "source": [
        "a = np.random.random(size=(3,4))\n",
        "a"
      ],
      "metadata": {
        "execution": {
          "iopub.execute_input": "2022-06-19T18:06:50.024095Z",
          "iopub.status.busy": "2022-06-19T18:06:50.023701Z",
          "iopub.status.idle": "2022-06-19T18:06:50.029876Z",
          "shell.execute_reply": "2022-06-19T18:06:50.029213Z"
        },
        "papermill": {
          "duration": 0.06162,
          "end_time": "2022-06-19T18:06:50.031938",
          "exception": false,
          "start_time": "2022-06-19T18:06:49.970318",
          "status": "completed"
        },
        "tags": [],
        "id": "4wudHZF7LcNx"
      },
      "execution_count": null,
      "outputs": []
    },
    {
      "cell_type": "code",
      "source": [
        "np.round(a,decimals=0)"
      ],
      "metadata": {
        "execution": {
          "iopub.execute_input": "2022-06-19T18:06:50.154842Z",
          "iopub.status.busy": "2022-06-19T18:06:50.15417Z",
          "iopub.status.idle": "2022-06-19T18:06:50.160908Z",
          "shell.execute_reply": "2022-06-19T18:06:50.159891Z"
        },
        "papermill": {
          "duration": 0.073587,
          "end_time": "2022-06-19T18:06:50.163799",
          "exception": false,
          "start_time": "2022-06-19T18:06:50.090212",
          "status": "completed"
        },
        "tags": [],
        "id": "lGXw5ausLcNx"
      },
      "execution_count": null,
      "outputs": []
    },
    {
      "cell_type": "code",
      "source": [
        "np.round(a,decimals=1)"
      ],
      "metadata": {
        "execution": {
          "iopub.execute_input": "2022-06-19T18:06:50.28147Z",
          "iopub.status.busy": "2022-06-19T18:06:50.280576Z",
          "iopub.status.idle": "2022-06-19T18:06:50.28934Z",
          "shell.execute_reply": "2022-06-19T18:06:50.288275Z"
        },
        "papermill": {
          "duration": 0.066037,
          "end_time": "2022-06-19T18:06:50.291583",
          "exception": false,
          "start_time": "2022-06-19T18:06:50.225546",
          "status": "completed"
        },
        "tags": [],
        "id": "nFDslAoFLcNx"
      },
      "execution_count": null,
      "outputs": []
    },
    {
      "cell_type": "markdown",
      "source": [
        "### 27. Clip\n",
        "It is used to keep the values of an array within a range."
      ],
      "metadata": {
        "papermill": {
          "duration": 0.058616,
          "end_time": "2022-06-19T18:06:50.411677",
          "exception": false,
          "start_time": "2022-06-19T18:06:50.353061",
          "status": "completed"
        },
        "tags": [],
        "id": "JzQMwaoJLcNy"
      }
    },
    {
      "cell_type": "code",
      "source": [
        "arr = np.array([0,1,-3,-4,5,6,7,2,3])\n",
        "arr.clip(0,5)"
      ],
      "metadata": {
        "execution": {
          "iopub.execute_input": "2022-06-19T18:06:50.528877Z",
          "iopub.status.busy": "2022-06-19T18:06:50.528021Z",
          "iopub.status.idle": "2022-06-19T18:06:50.537133Z",
          "shell.execute_reply": "2022-06-19T18:06:50.535937Z"
        },
        "papermill": {
          "duration": 0.065403,
          "end_time": "2022-06-19T18:06:50.539307",
          "exception": false,
          "start_time": "2022-06-19T18:06:50.473904",
          "status": "completed"
        },
        "tags": [],
        "id": "U5pp-d8_LcNy"
      },
      "execution_count": null,
      "outputs": []
    },
    {
      "cell_type": "code",
      "source": [
        "arr.clip(0,3)"
      ],
      "metadata": {
        "execution": {
          "iopub.execute_input": "2022-06-19T18:06:50.644952Z",
          "iopub.status.busy": "2022-06-19T18:06:50.644537Z",
          "iopub.status.idle": "2022-06-19T18:06:50.651684Z",
          "shell.execute_reply": "2022-06-19T18:06:50.650673Z"
        },
        "papermill": {
          "duration": 0.062027,
          "end_time": "2022-06-19T18:06:50.653989",
          "exception": false,
          "start_time": "2022-06-19T18:06:50.591962",
          "status": "completed"
        },
        "tags": [],
        "id": "XvP8n-_VLcNy"
      },
      "execution_count": null,
      "outputs": []
    },
    {
      "cell_type": "code",
      "source": [
        "arr.clip(3,5)"
      ],
      "metadata": {
        "execution": {
          "iopub.execute_input": "2022-06-19T18:06:50.759461Z",
          "iopub.status.busy": "2022-06-19T18:06:50.75908Z",
          "iopub.status.idle": "2022-06-19T18:06:50.765967Z",
          "shell.execute_reply": "2022-06-19T18:06:50.764947Z"
        },
        "papermill": {
          "duration": 0.061741,
          "end_time": "2022-06-19T18:06:50.768262",
          "exception": false,
          "start_time": "2022-06-19T18:06:50.706521",
          "status": "completed"
        },
        "tags": [],
        "id": "paeH456zLcNy"
      },
      "execution_count": null,
      "outputs": []
    },
    {
      "cell_type": "markdown",
      "source": [
        "***"
      ],
      "metadata": {
        "papermill": {
          "duration": 0.052929,
          "end_time": "2022-06-19T18:06:50.874075",
          "exception": false,
          "start_time": "2022-06-19T18:06:50.821146",
          "status": "completed"
        },
        "tags": [],
        "id": "SXZ161nnLcNy"
      }
    },
    {
      "cell_type": "markdown",
      "source": [
        "## Replacing Values Inside Array"
      ],
      "metadata": {
        "papermill": {
          "duration": 0.051758,
          "end_time": "2022-06-19T18:06:50.981515",
          "exception": false,
          "start_time": "2022-06-19T18:06:50.929757",
          "status": "completed"
        },
        "tags": [],
        "id": "1QZWdfc6LcNy"
      }
    },
    {
      "cell_type": "markdown",
      "source": [
        "### 28. Where\n",
        "Return elements from an array where a condition satisfies.![1_9-_yZurf1saGMDbNptiLZQ.png](attachment:a7f3ced8-4834-4eca-ace4-82c5bf940c99.png)\n",
        "\n",
        "**▪▶ Important params**\n",
        "`condition`: condition to match. if true yield xotherwise y."
      ],
      "metadata": {
        "papermill": {
          "duration": 0.052129,
          "end_time": "2022-06-19T18:06:51.085775",
          "exception": false,
          "start_time": "2022-06-19T18:06:51.033646",
          "status": "completed"
        },
        "tags": [],
        "id": "_Jj2cxqILcNy"
      }
    },
    {
      "cell_type": "code",
      "source": [
        "a = np.arange(12).reshape(4,3)\n",
        "a"
      ],
      "metadata": {
        "execution": {
          "iopub.execute_input": "2022-06-19T18:06:51.195625Z",
          "iopub.status.busy": "2022-06-19T18:06:51.194874Z",
          "iopub.status.idle": "2022-06-19T18:06:51.201884Z",
          "shell.execute_reply": "2022-06-19T18:06:51.200934Z"
        },
        "papermill": {
          "duration": 0.065894,
          "end_time": "2022-06-19T18:06:51.203877",
          "exception": false,
          "start_time": "2022-06-19T18:06:51.137983",
          "status": "completed"
        },
        "tags": [],
        "id": "dJ97k3LJLcNz"
      },
      "execution_count": null,
      "outputs": []
    },
    {
      "cell_type": "code",
      "source": [
        "np.where(a>5)"
      ],
      "metadata": {
        "execution": {
          "iopub.execute_input": "2022-06-19T18:06:51.312408Z",
          "iopub.status.busy": "2022-06-19T18:06:51.311525Z",
          "iopub.status.idle": "2022-06-19T18:06:51.319517Z",
          "shell.execute_reply": "2022-06-19T18:06:51.318374Z"
        },
        "papermill": {
          "duration": 0.064815,
          "end_time": "2022-06-19T18:06:51.321583",
          "exception": false,
          "start_time": "2022-06-19T18:06:51.256768",
          "status": "completed"
        },
        "tags": [],
        "id": "XOiDipPTLcNz"
      },
      "execution_count": null,
      "outputs": []
    },
    {
      "cell_type": "markdown",
      "source": [
        "```\n",
        "'''\n",
        "[2][0] ᴇʟᴇᴍᴇɴᴛ (2ɴꜱ ʀᴏᴡ 0ᴛʜ ᴄᴏʟᴜᴍɴ) 6 > 5, ʀᴇᴛᴜʀɴ\n",
        "[2][1] ᴇʟᴇᴍᴇɴᴛ (2ɴᴅ ʀᴏᴡ 1ꜱᴛ ᴄᴏʟᴜᴍɴ) 7 > 5, ʀᴇᴛᴜʀɴ\n",
        ".\n",
        "[3][2] ᴇʟᴇᴍᴇɴᴛ (3ᴅ ʀᴏᴡ 2ɴᴅ ᴄᴏʟᴜᴍɴ) 11 > 5, ʀᴇᴛᴜʀɴ\n",
        "'''\n",
        "```"
      ],
      "metadata": {
        "papermill": {
          "duration": 0.053346,
          "end_time": "2022-06-19T18:06:51.427947",
          "exception": false,
          "start_time": "2022-06-19T18:06:51.374601",
          "status": "completed"
        },
        "tags": [],
        "id": "xAkBBaO6LcNz"
      }
    },
    {
      "cell_type": "code",
      "source": [
        "a[np.where(a>5)]"
      ],
      "metadata": {
        "execution": {
          "iopub.execute_input": "2022-06-19T18:06:51.536044Z",
          "iopub.status.busy": "2022-06-19T18:06:51.535421Z",
          "iopub.status.idle": "2022-06-19T18:06:51.54258Z",
          "shell.execute_reply": "2022-06-19T18:06:51.541549Z"
        },
        "papermill": {
          "duration": 0.063272,
          "end_time": "2022-06-19T18:06:51.544628",
          "exception": false,
          "start_time": "2022-06-19T18:06:51.481356",
          "status": "completed"
        },
        "tags": [],
        "id": "m98PuNKjLcNz"
      },
      "execution_count": null,
      "outputs": []
    },
    {
      "cell_type": "markdown",
      "source": [
        "It can also be used to replace elements inside the panda’s data frame.\n",
        "\n",
        "`np.where(data[feature].isnull(), 1, 0)`\n",
        "\n",
        "```\n",
        "Replace Null Values with 1 and other as 0\n",
        "```\n"
      ],
      "metadata": {
        "papermill": {
          "duration": 0.052453,
          "end_time": "2022-06-19T18:06:51.650651",
          "exception": false,
          "start_time": "2022-06-19T18:06:51.598198",
          "status": "completed"
        },
        "tags": [],
        "id": "Qy4KLIhrLcNz"
      }
    },
    {
      "cell_type": "markdown",
      "source": [
        "### 29. Put\n",
        "Replaces specified elements of an array with given values.![1_OWHgR8R6ilotQl9F-r-EFw.png](attachment:e905955a-3cc6-486b-be7e-88119def51d5.png)\n",
        "\n",
        "**▪▶ Important params**<br>\n",
        "`a`: array<br>\n",
        "`ind`: indices to be replaced.<br>\n",
        "`v`: values to place."
      ],
      "metadata": {
        "papermill": {
          "duration": 0.053151,
          "end_time": "2022-06-19T18:06:51.757242",
          "exception": false,
          "start_time": "2022-06-19T18:06:51.704091",
          "status": "completed"
        },
        "tags": [],
        "id": "SAxjy09YLcNz"
      }
    },
    {
      "cell_type": "code",
      "source": [
        "arr = np.array([1,2,3,4,5,6])\n",
        "arr"
      ],
      "metadata": {
        "execution": {
          "iopub.execute_input": "2022-06-19T18:06:51.865604Z",
          "iopub.status.busy": "2022-06-19T18:06:51.864813Z",
          "iopub.status.idle": "2022-06-19T18:06:51.872777Z",
          "shell.execute_reply": "2022-06-19T18:06:51.8719Z"
        },
        "papermill": {
          "duration": 0.064999,
          "end_time": "2022-06-19T18:06:51.875247",
          "exception": false,
          "start_time": "2022-06-19T18:06:51.810248",
          "status": "completed"
        },
        "tags": [],
        "id": "g0T6LmkULcNz"
      },
      "execution_count": null,
      "outputs": []
    },
    {
      "cell_type": "code",
      "source": [
        "np.put(arr,[1,2],[6,7])\n",
        "arr"
      ],
      "metadata": {
        "execution": {
          "iopub.execute_input": "2022-06-19T18:06:51.982907Z",
          "iopub.status.busy": "2022-06-19T18:06:51.982486Z",
          "iopub.status.idle": "2022-06-19T18:06:51.989238Z",
          "shell.execute_reply": "2022-06-19T18:06:51.9882Z"
        },
        "papermill": {
          "duration": 0.063289,
          "end_time": "2022-06-19T18:06:51.991628",
          "exception": false,
          "start_time": "2022-06-19T18:06:51.928339",
          "status": "completed"
        },
        "tags": [],
        "id": "rDOxu8WyLcN0"
      },
      "execution_count": null,
      "outputs": []
    },
    {
      "cell_type": "markdown",
      "source": [
        "### 30. Copyto\n",
        "Copy the content of one array into another.![1_4k6Jk560zf7P3Y_aZknLYg.png](attachment:6429a782-168a-4c7d-99db-65ec87658257.png)\n",
        "\n",
        "**▪▶Important params**<br>\n",
        "`dst`: array into which values are copied.<br>\n",
        "`src`: array from which values are copied.\n"
      ],
      "metadata": {
        "papermill": {
          "duration": 0.051929,
          "end_time": "2022-06-19T18:06:52.096272",
          "exception": false,
          "start_time": "2022-06-19T18:06:52.044343",
          "status": "completed"
        },
        "tags": [],
        "id": "bvT7l2LMLcN0"
      }
    },
    {
      "cell_type": "code",
      "source": [
        "arr1 = np.array([1,2,3])\n",
        "arr2 = np.array([4,5,6])\n",
        "print(\"Before arr1\",arr1)\n",
        "print(\"Before arr2\",arr1)\n",
        "np.copyto(arr1,arr2)\n",
        "print(\"After arr1\",arr1)\n",
        "print(\"After arr2\",arr2)"
      ],
      "metadata": {
        "execution": {
          "iopub.execute_input": "2022-06-19T18:06:52.205177Z",
          "iopub.status.busy": "2022-06-19T18:06:52.204411Z",
          "iopub.status.idle": "2022-06-19T18:06:52.213183Z",
          "shell.execute_reply": "2022-06-19T18:06:52.211931Z"
        },
        "papermill": {
          "duration": 0.066375,
          "end_time": "2022-06-19T18:06:52.215449",
          "exception": false,
          "start_time": "2022-06-19T18:06:52.149074",
          "status": "completed"
        },
        "tags": [],
        "id": "Uk1iqipnLcN0"
      },
      "execution_count": null,
      "outputs": []
    },
    {
      "cell_type": "markdown",
      "source": [
        "***"
      ],
      "metadata": {
        "papermill": {
          "duration": 0.053233,
          "end_time": "2022-06-19T18:06:52.32263",
          "exception": false,
          "start_time": "2022-06-19T18:06:52.269397",
          "status": "completed"
        },
        "tags": [],
        "id": "aiLm61BuLcN0"
      }
    },
    {
      "cell_type": "markdown",
      "source": [
        "## Set Operations"
      ],
      "metadata": {
        "papermill": {
          "duration": 0.053041,
          "end_time": "2022-06-19T18:06:52.429397",
          "exception": false,
          "start_time": "2022-06-19T18:06:52.376356",
          "status": "completed"
        },
        "tags": [],
        "id": "VbUxQs69LcN0"
      }
    },
    {
      "cell_type": "markdown",
      "source": [
        "### 31. Retrieve Common Elements\n",
        "`np.intersect1d` function returns all the unique values from both arrays in a sorted manner.![1_IT4B7lKwo7lqNMLeDoJVDA.png](attachment:133c4059-1755-4c56-b0ff-e544c1de2bbd.png)\n",
        "\n",
        "**▪▶Important params**<br>\n",
        "`assume_unique`: if true, then input arrays are both assumed to be unique.<br>\n",
        "`return_indices`: if true, then common elements indices are returned."
      ],
      "metadata": {
        "papermill": {
          "duration": 0.052389,
          "end_time": "2022-06-19T18:06:52.534367",
          "exception": false,
          "start_time": "2022-06-19T18:06:52.481978",
          "status": "completed"
        },
        "tags": [],
        "id": "Mjxomd6ALcN0"
      }
    },
    {
      "cell_type": "code",
      "source": [
        "ar1 = np.array([1,2,3,4,5,6])\n",
        "ar2 = np.array([3,4,5,8,9,1])\n",
        "np.intersect1d(ar1,ar2)"
      ],
      "metadata": {
        "execution": {
          "iopub.execute_input": "2022-06-19T18:06:52.642479Z",
          "iopub.status.busy": "2022-06-19T18:06:52.641737Z",
          "iopub.status.idle": "2022-06-19T18:06:52.650164Z",
          "shell.execute_reply": "2022-06-19T18:06:52.649295Z"
        },
        "papermill": {
          "duration": 0.065094,
          "end_time": "2022-06-19T18:06:52.652279",
          "exception": false,
          "start_time": "2022-06-19T18:06:52.587185",
          "status": "completed"
        },
        "tags": [],
        "id": "kaKIqlXJLcN1"
      },
      "execution_count": null,
      "outputs": []
    },
    {
      "cell_type": "code",
      "source": [
        "np.intersect1d(ar1,ar2,return_indices=True)"
      ],
      "metadata": {
        "execution": {
          "iopub.execute_input": "2022-06-19T18:06:52.760991Z",
          "iopub.status.busy": "2022-06-19T18:06:52.760257Z",
          "iopub.status.idle": "2022-06-19T18:06:52.769725Z",
          "shell.execute_reply": "2022-06-19T18:06:52.7687Z"
        },
        "papermill": {
          "duration": 0.066232,
          "end_time": "2022-06-19T18:06:52.771901",
          "exception": false,
          "start_time": "2022-06-19T18:06:52.705669",
          "status": "completed"
        },
        "tags": [],
        "id": "IYTEMxduLcN1"
      },
      "execution_count": null,
      "outputs": []
    },
    {
      "cell_type": "markdown",
      "source": [
        "```\n",
        "array([0, 2, 3, 4], dtype=int64) :- Indices of common elements inside first array.\n",
        "array([5, 0, 1, 2], dtype=int64)) :- Indices of common elements inside second array.\n",
        "```"
      ],
      "metadata": {
        "papermill": {
          "duration": 0.053611,
          "end_time": "2022-06-19T18:06:52.878814",
          "exception": false,
          "start_time": "2022-06-19T18:06:52.825203",
          "status": "completed"
        },
        "tags": [],
        "id": "J9hjkLcqLcN1"
      }
    },
    {
      "cell_type": "markdown",
      "source": [
        "### 32. Difference\n",
        "np.setdiff1d function returns all the unique elements from array 1 that are not present in arr2."
      ],
      "metadata": {
        "papermill": {
          "duration": 0.054527,
          "end_time": "2022-06-19T18:06:53.111163",
          "exception": false,
          "start_time": "2022-06-19T18:06:53.056636",
          "status": "completed"
        },
        "tags": [],
        "id": "fFbHUrCbLcN1"
      }
    },
    {
      "cell_type": "code",
      "source": [
        "a = np.array([1, 7, 3, 2, 4, 1])\n",
        "b = np.array([9, 2, 5, 6, 7, 8])\n",
        "np.setdiff1d(a, b)"
      ],
      "metadata": {
        "execution": {
          "iopub.execute_input": "2022-06-19T18:06:53.226091Z",
          "iopub.status.busy": "2022-06-19T18:06:53.225295Z",
          "iopub.status.idle": "2022-06-19T18:06:53.234495Z",
          "shell.execute_reply": "2022-06-19T18:06:53.233452Z"
        },
        "papermill": {
          "duration": 0.070532,
          "end_time": "2022-06-19T18:06:53.237027",
          "exception": false,
          "start_time": "2022-06-19T18:06:53.166495",
          "status": "completed"
        },
        "tags": [],
        "id": "C9B7DAJmLcN1"
      },
      "execution_count": null,
      "outputs": []
    },
    {
      "cell_type": "markdown",
      "source": [
        "### 33. Extracts Unique Elements From Both Arrays\n",
        "`setxor1d` function will return all the unique values from both arrays in sorted order."
      ],
      "metadata": {
        "papermill": {
          "duration": 0.053512,
          "end_time": "2022-06-19T18:06:53.345881",
          "exception": false,
          "start_time": "2022-06-19T18:06:53.292369",
          "status": "completed"
        },
        "tags": [],
        "id": "s_qHgTZwLcN1"
      }
    },
    {
      "cell_type": "code",
      "source": [
        "a = np.array([1, 2, 3, 4, 6])\n",
        "b = np.array([1, 4, 9, 4, 36])\n",
        "np.setxor1d(a,b)"
      ],
      "metadata": {
        "execution": {
          "iopub.execute_input": "2022-06-19T18:06:53.455892Z",
          "iopub.status.busy": "2022-06-19T18:06:53.454746Z",
          "iopub.status.idle": "2022-06-19T18:06:53.46265Z",
          "shell.execute_reply": "2022-06-19T18:06:53.461972Z"
        },
        "papermill": {
          "duration": 0.065235,
          "end_time": "2022-06-19T18:06:53.464586",
          "exception": false,
          "start_time": "2022-06-19T18:06:53.399351",
          "status": "completed"
        },
        "tags": [],
        "id": "YBLkuZjbLcN1"
      },
      "execution_count": null,
      "outputs": []
    },
    {
      "cell_type": "markdown",
      "source": [
        "### 34. Union\n",
        "union1d function will combine both arrays into one."
      ],
      "metadata": {
        "papermill": {
          "duration": 0.053082,
          "end_time": "2022-06-19T18:06:53.57102",
          "exception": false,
          "start_time": "2022-06-19T18:06:53.517938",
          "status": "completed"
        },
        "tags": [],
        "id": "l3GTHaZ1LcN1"
      }
    },
    {
      "cell_type": "code",
      "source": [
        "a = np.array([1, 2, 3, 4, 5])\n",
        "b = np.array([1, 3, 5, 4, 36])\n",
        "np.union1d(a,b)"
      ],
      "metadata": {
        "execution": {
          "iopub.execute_input": "2022-06-19T18:06:53.680473Z",
          "iopub.status.busy": "2022-06-19T18:06:53.679795Z",
          "iopub.status.idle": "2022-06-19T18:06:53.686539Z",
          "shell.execute_reply": "2022-06-19T18:06:53.685902Z"
        },
        "papermill": {
          "duration": 0.063254,
          "end_time": "2022-06-19T18:06:53.688463",
          "exception": false,
          "start_time": "2022-06-19T18:06:53.625209",
          "status": "completed"
        },
        "tags": [],
        "id": "ayBp_9R3LcN2"
      },
      "execution_count": null,
      "outputs": []
    },
    {
      "cell_type": "markdown",
      "source": [
        "***"
      ],
      "metadata": {
        "papermill": {
          "duration": 0.053569,
          "end_time": "2022-06-19T18:06:53.795621",
          "exception": false,
          "start_time": "2022-06-19T18:06:53.742052",
          "status": "completed"
        },
        "tags": [],
        "id": "6csHSvRwLcN2"
      }
    },
    {
      "cell_type": "markdown",
      "source": [
        "## Splitting\n",
        "### 35. Horizontal Split\n",
        "`hsplit` function will split the data horizontally into n equal parts."
      ],
      "metadata": {
        "papermill": {
          "duration": 0.053311,
          "end_time": "2022-06-19T18:06:53.903088",
          "exception": false,
          "start_time": "2022-06-19T18:06:53.849777",
          "status": "completed"
        },
        "tags": [],
        "id": "EYOlY61-LcN2"
      }
    },
    {
      "cell_type": "code",
      "source": [
        "A = np.array([[3,4,5,2],[6,7,2,6]])\n",
        "np.hsplit(A,2)    ## splits the data into two equal parts"
      ],
      "metadata": {
        "execution": {
          "iopub.execute_input": "2022-06-19T18:06:54.01308Z",
          "iopub.status.busy": "2022-06-19T18:06:54.012338Z",
          "iopub.status.idle": "2022-06-19T18:06:54.019508Z",
          "shell.execute_reply": "2022-06-19T18:06:54.018743Z"
        },
        "papermill": {
          "duration": 0.064504,
          "end_time": "2022-06-19T18:06:54.021433",
          "exception": false,
          "start_time": "2022-06-19T18:06:53.956929",
          "status": "completed"
        },
        "tags": [],
        "id": "p5D0aHYfLcN2"
      },
      "execution_count": null,
      "outputs": []
    },
    {
      "cell_type": "code",
      "source": [
        "np.hsplit(A,4)    ## splits the data into four equal parts"
      ],
      "metadata": {
        "execution": {
          "iopub.execute_input": "2022-06-19T18:06:54.129829Z",
          "iopub.status.busy": "2022-06-19T18:06:54.129223Z",
          "iopub.status.idle": "2022-06-19T18:06:54.135601Z",
          "shell.execute_reply": "2022-06-19T18:06:54.13478Z"
        },
        "papermill": {
          "duration": 0.0629,
          "end_time": "2022-06-19T18:06:54.1375",
          "exception": false,
          "start_time": "2022-06-19T18:06:54.0746",
          "status": "completed"
        },
        "tags": [],
        "id": "3xJtswlWLcN2"
      },
      "execution_count": null,
      "outputs": []
    },
    {
      "cell_type": "markdown",
      "source": [
        "### 36. Vertical Split\n",
        "vsplit will split the data vertically into n equal parts."
      ],
      "metadata": {
        "papermill": {
          "duration": 0.07391,
          "end_time": "2022-06-19T18:06:54.273004",
          "exception": false,
          "start_time": "2022-06-19T18:06:54.199094",
          "status": "completed"
        },
        "tags": [],
        "id": "49CbamPLLcN2"
      }
    },
    {
      "cell_type": "code",
      "source": [
        "A = np.array([[3,4,5,2],[6,7,2,6]])\n",
        "np.vsplit(A,2)"
      ],
      "metadata": {
        "execution": {
          "iopub.execute_input": "2022-06-19T18:06:54.384996Z",
          "iopub.status.busy": "2022-06-19T18:06:54.384253Z",
          "iopub.status.idle": "2022-06-19T18:06:54.392167Z",
          "shell.execute_reply": "2022-06-19T18:06:54.39123Z"
        },
        "papermill": {
          "duration": 0.065059,
          "end_time": "2022-06-19T18:06:54.394277",
          "exception": false,
          "start_time": "2022-06-19T18:06:54.329218",
          "status": "completed"
        },
        "tags": [],
        "id": "YID_vo4gLcN2"
      },
      "execution_count": null,
      "outputs": []
    },
    {
      "cell_type": "markdown",
      "source": [
        "***"
      ],
      "metadata": {
        "papermill": {
          "duration": 0.053919,
          "end_time": "2022-06-19T18:06:54.501903",
          "exception": false,
          "start_time": "2022-06-19T18:06:54.447984",
          "status": "completed"
        },
        "tags": [],
        "id": "DYsT9GVQLcN3"
      }
    },
    {
      "cell_type": "markdown",
      "source": [
        "## Stacking"
      ],
      "metadata": {
        "papermill": {
          "duration": 0.054112,
          "end_time": "2022-06-19T18:06:54.610379",
          "exception": false,
          "start_time": "2022-06-19T18:06:54.556267",
          "status": "completed"
        },
        "tags": [],
        "id": "Vw_W8qckLcN3"
      }
    },
    {
      "cell_type": "markdown",
      "source": [
        "### 37. Horizontal Stacking\n",
        "`hstack` will stack appends one array at the end of another."
      ],
      "metadata": {
        "papermill": {
          "duration": 0.053566,
          "end_time": "2022-06-19T18:06:54.718278",
          "exception": false,
          "start_time": "2022-06-19T18:06:54.664712",
          "status": "completed"
        },
        "tags": [],
        "id": "Q7CVEWiuLcN3"
      }
    },
    {
      "cell_type": "code",
      "source": [
        "a = np.array([1,2,3,4,5])\n",
        "b = np.array([1,4,9,16,25])\n",
        "np.hstack((a,b))"
      ],
      "metadata": {
        "execution": {
          "iopub.execute_input": "2022-06-19T18:06:54.828629Z",
          "iopub.status.busy": "2022-06-19T18:06:54.827891Z",
          "iopub.status.idle": "2022-06-19T18:06:54.836059Z",
          "shell.execute_reply": "2022-06-19T18:06:54.835163Z"
        },
        "papermill": {
          "duration": 0.065152,
          "end_time": "2022-06-19T18:06:54.838176",
          "exception": false,
          "start_time": "2022-06-19T18:06:54.773024",
          "status": "completed"
        },
        "tags": [],
        "id": "cXunJ06pLcN3"
      },
      "execution_count": null,
      "outputs": []
    },
    {
      "cell_type": "markdown",
      "source": [
        "### 38. Vertical Stacking\n",
        "`vstack` will stack one array on top of another."
      ],
      "metadata": {
        "papermill": {
          "duration": 0.054202,
          "end_time": "2022-06-19T18:06:54.946521",
          "exception": false,
          "start_time": "2022-06-19T18:06:54.892319",
          "status": "completed"
        },
        "tags": [],
        "id": "wY2e8xL4LcN3"
      }
    },
    {
      "cell_type": "code",
      "source": [
        "np.vstack((a,b))"
      ],
      "metadata": {
        "execution": {
          "iopub.execute_input": "2022-06-19T18:06:55.058753Z",
          "iopub.status.busy": "2022-06-19T18:06:55.057998Z",
          "iopub.status.idle": "2022-06-19T18:06:55.065283Z",
          "shell.execute_reply": "2022-06-19T18:06:55.064293Z"
        },
        "papermill": {
          "duration": 0.065957,
          "end_time": "2022-06-19T18:06:55.067398",
          "exception": false,
          "start_time": "2022-06-19T18:06:55.001441",
          "status": "completed"
        },
        "tags": [],
        "id": "RiU_Ni-pLcN3"
      },
      "execution_count": null,
      "outputs": []
    },
    {
      "cell_type": "markdown",
      "source": [
        "***"
      ],
      "metadata": {
        "papermill": {
          "duration": 0.055317,
          "end_time": "2022-06-19T18:06:55.177538",
          "exception": false,
          "start_time": "2022-06-19T18:06:55.122221",
          "status": "completed"
        },
        "tags": [],
        "id": "KtRhuaMTLcN3"
      }
    },
    {
      "cell_type": "markdown",
      "source": [
        "## Comparing Two Arrays"
      ],
      "metadata": {
        "papermill": {
          "duration": 0.055204,
          "end_time": "2022-06-19T18:06:55.288537",
          "exception": false,
          "start_time": "2022-06-19T18:06:55.233333",
          "status": "completed"
        },
        "tags": [],
        "id": "z6KzIkLCLcN3"
      }
    },
    {
      "cell_type": "markdown",
      "source": [
        "### 39. allclose\n",
        "`np.allclose` function finds whether two arrays are equal or approximately equal to each other based on some tolerance value if the shape of both arrays is the same."
      ],
      "metadata": {
        "papermill": {
          "duration": 0.054224,
          "end_time": "2022-06-19T18:06:55.396991",
          "exception": false,
          "start_time": "2022-06-19T18:06:55.342767",
          "status": "completed"
        },
        "tags": [],
        "id": "RHXUozGDLcN4"
      }
    },
    {
      "cell_type": "code",
      "source": [
        "a = np.array([0.25,0.4,0.6,0.32])\n",
        "b = np.array([0.26,0.3,0.7,0.32])\n",
        "tolerance = 0.1           ## Total Difference\n",
        "np.allclose(a,b,tolerance)"
      ],
      "metadata": {
        "execution": {
          "iopub.execute_input": "2022-06-19T18:06:55.507469Z",
          "iopub.status.busy": "2022-06-19T18:06:55.506739Z",
          "iopub.status.idle": "2022-06-19T18:06:55.515135Z",
          "shell.execute_reply": "2022-06-19T18:06:55.514186Z"
        },
        "papermill": {
          "duration": 0.065698,
          "end_time": "2022-06-19T18:06:55.517242",
          "exception": false,
          "start_time": "2022-06-19T18:06:55.451544",
          "status": "completed"
        },
        "tags": [],
        "id": "jiFBVuHWLcN4"
      },
      "execution_count": null,
      "outputs": []
    },
    {
      "cell_type": "code",
      "source": [
        "tolerance = 0.5\n",
        "np.allclose(a,b,tolerance)"
      ],
      "metadata": {
        "execution": {
          "iopub.execute_input": "2022-06-19T18:06:55.62689Z",
          "iopub.status.busy": "2022-06-19T18:06:55.626167Z",
          "iopub.status.idle": "2022-06-19T18:06:55.633368Z",
          "shell.execute_reply": "2022-06-19T18:06:55.632289Z"
        },
        "papermill": {
          "duration": 0.064248,
          "end_time": "2022-06-19T18:06:55.635433",
          "exception": false,
          "start_time": "2022-06-19T18:06:55.571185",
          "status": "completed"
        },
        "tags": [],
        "id": "llZu3FA7LcN4"
      },
      "execution_count": null,
      "outputs": []
    },
    {
      "cell_type": "markdown",
      "source": [
        "### 40. Repeat\n",
        "It is used to repeat elements of an array for n number of times.\n",
        "![1_-P7D8NAOfMbQ5edIC6De2w.png](attachment:2dbb82c7-7cda-4930-a99e-553b343fa635.png)\n",
        "\n",
        "**▪▶ Important params**<br>\n",
        "`a`: element to repeat.<br>\n",
        "`repeats`: number of times to repeat element."
      ],
      "metadata": {
        "papermill": {
          "duration": 0.053976,
          "end_time": "2022-06-19T18:06:55.742925",
          "exception": false,
          "start_time": "2022-06-19T18:06:55.688949",
          "status": "completed"
        },
        "tags": [],
        "id": "3OhmVT-_LcN4"
      }
    },
    {
      "cell_type": "code",
      "source": [
        "np.repeat('2017',3)"
      ],
      "metadata": {
        "execution": {
          "iopub.execute_input": "2022-06-19T18:06:55.853111Z",
          "iopub.status.busy": "2022-06-19T18:06:55.852689Z",
          "iopub.status.idle": "2022-06-19T18:06:55.859093Z",
          "shell.execute_reply": "2022-06-19T18:06:55.858046Z"
        },
        "papermill": {
          "duration": 0.064579,
          "end_time": "2022-06-19T18:06:55.861506",
          "exception": false,
          "start_time": "2022-06-19T18:06:55.796927",
          "status": "completed"
        },
        "tags": [],
        "id": "1R8NsW26LcN4"
      },
      "execution_count": null,
      "outputs": []
    },
    {
      "cell_type": "markdown",
      "source": [
        "Let’s take a more practical use case example, we have a dataset containing year-wise container quantity sales."
      ],
      "metadata": {
        "papermill": {
          "duration": 0.056355,
          "end_time": "2022-06-19T18:06:55.972391",
          "exception": false,
          "start_time": "2022-06-19T18:06:55.916036",
          "status": "completed"
        },
        "tags": [],
        "id": "aCVfYjDxLcN4"
      }
    },
    {
      "cell_type": "code",
      "source": [
        "fruits = pd.DataFrame([\n",
        "    ['Mango',40],\n",
        "    ['Apple',90],\n",
        "    ['Banana',130]\n",
        "],columns=['Product','ContainerSales'])\n",
        "fruits"
      ],
      "metadata": {
        "execution": {
          "iopub.execute_input": "2022-06-19T18:06:56.082896Z",
          "iopub.status.busy": "2022-06-19T18:06:56.082471Z",
          "iopub.status.idle": "2022-06-19T18:06:56.098238Z",
          "shell.execute_reply": "2022-06-19T18:06:56.097509Z"
        },
        "papermill": {
          "duration": 0.073368,
          "end_time": "2022-06-19T18:06:56.100397",
          "exception": false,
          "start_time": "2022-06-19T18:06:56.027029",
          "status": "completed"
        },
        "tags": [],
        "id": "DCckIgZvLcN4"
      },
      "execution_count": null,
      "outputs": []
    },
    {
      "cell_type": "markdown",
      "source": [
        "In the dataset, the year column is missing. Let’s try to add it using numpy."
      ],
      "metadata": {
        "papermill": {
          "duration": 0.055883,
          "end_time": "2022-06-19T18:06:56.211795",
          "exception": false,
          "start_time": "2022-06-19T18:06:56.155912",
          "status": "completed"
        },
        "tags": [],
        "id": "kSruWeKHLcN4"
      }
    },
    {
      "cell_type": "code",
      "source": [
        "fruits['year'] = np.repeat(2020,fruits.shape[0])\n",
        "'''\n",
        "Above code will repeat the year 2020 n times, where n is the length of data.\n",
        "'''\n",
        "fruits"
      ],
      "metadata": {
        "execution": {
          "iopub.execute_input": "2022-06-19T18:06:56.325734Z",
          "iopub.status.busy": "2022-06-19T18:06:56.324685Z",
          "iopub.status.idle": "2022-06-19T18:06:56.339634Z",
          "shell.execute_reply": "2022-06-19T18:06:56.338976Z"
        },
        "papermill": {
          "duration": 0.074307,
          "end_time": "2022-06-19T18:06:56.341594",
          "exception": false,
          "start_time": "2022-06-19T18:06:56.267287",
          "status": "completed"
        },
        "tags": [],
        "id": "Via_iS_GLcN4"
      },
      "execution_count": null,
      "outputs": []
    },
    {
      "cell_type": "markdown",
      "source": [
        "### 41. tile\n",
        "Construct an array by repeating A the number of times given by reps.![1_pvZMA5HzqHU5oOkN-scEMg.png](attachment:e07624d3-9062-40d7-8f3c-a45f08def6cb.png)"
      ],
      "metadata": {
        "papermill": {
          "duration": 0.054964,
          "end_time": "2022-06-19T18:06:56.452088",
          "exception": false,
          "start_time": "2022-06-19T18:06:56.397124",
          "status": "completed"
        },
        "tags": [],
        "id": "xvN28TeTLcN5"
      }
    },
    {
      "cell_type": "code",
      "source": [
        "np.tile(\"Ram\",5)"
      ],
      "metadata": {
        "execution": {
          "iopub.execute_input": "2022-06-19T18:06:56.564843Z",
          "iopub.status.busy": "2022-06-19T18:06:56.564425Z",
          "iopub.status.idle": "2022-06-19T18:06:56.571355Z",
          "shell.execute_reply": "2022-06-19T18:06:56.570163Z"
        },
        "papermill": {
          "duration": 0.066388,
          "end_time": "2022-06-19T18:06:56.573561",
          "exception": false,
          "start_time": "2022-06-19T18:06:56.507173",
          "status": "completed"
        },
        "tags": [],
        "id": "0bcsGi-GLcN5"
      },
      "execution_count": null,
      "outputs": []
    },
    {
      "cell_type": "code",
      "source": [
        "np.tile(3,(2,3))"
      ],
      "metadata": {
        "execution": {
          "iopub.execute_input": "2022-06-19T18:06:56.685395Z",
          "iopub.status.busy": "2022-06-19T18:06:56.684978Z",
          "iopub.status.idle": "2022-06-19T18:06:56.691083Z",
          "shell.execute_reply": "2022-06-19T18:06:56.69035Z"
        },
        "papermill": {
          "duration": 0.064226,
          "end_time": "2022-06-19T18:06:56.693021",
          "exception": false,
          "start_time": "2022-06-19T18:06:56.628795",
          "status": "completed"
        },
        "tags": [],
        "id": "hBTX1FGlLcN5"
      },
      "execution_count": null,
      "outputs": []
    },
    {
      "cell_type": "markdown",
      "source": [
        "***"
      ],
      "metadata": {
        "papermill": {
          "duration": 0.055261,
          "end_time": "2022-06-19T18:06:56.802883",
          "exception": false,
          "start_time": "2022-06-19T18:06:56.747622",
          "status": "completed"
        },
        "tags": [],
        "id": "mf6XE2R4LcN5"
      }
    },
    {
      "cell_type": "markdown",
      "source": [
        "## Einstein Summation Conventions"
      ],
      "metadata": {
        "papermill": {
          "duration": 0.055431,
          "end_time": "2022-06-19T18:06:56.914033",
          "exception": false,
          "start_time": "2022-06-19T18:06:56.858602",
          "status": "completed"
        },
        "tags": [],
        "id": "ngWVYjSILcN5"
      }
    },
    {
      "cell_type": "markdown",
      "source": [
        "### 42. Einsum\n",
        "This function is used to compute many multi-dimensional and linear algebraic operations on arrays."
      ],
      "metadata": {
        "papermill": {
          "duration": 0.055547,
          "end_time": "2022-06-19T18:06:57.025289",
          "exception": false,
          "start_time": "2022-06-19T18:06:56.969742",
          "status": "completed"
        },
        "tags": [],
        "id": "iFVYHiK1LcN5"
      }
    },
    {
      "cell_type": "code",
      "source": [
        "a = np.arange(1,10).reshape(3,3)\n",
        "b = np.arange(21,30).reshape(3,3)\n",
        "\n",
        "## ▪️ᴇxᴛʀᴀᴄᴛꜱ ᴅɪᴀɢᴏɴᴀʟꜱ\n",
        "np.einsum('ii->i',a)"
      ],
      "metadata": {
        "execution": {
          "iopub.execute_input": "2022-06-19T18:06:57.13717Z",
          "iopub.status.busy": "2022-06-19T18:06:57.136723Z",
          "iopub.status.idle": "2022-06-19T18:06:57.143834Z",
          "shell.execute_reply": "2022-06-19T18:06:57.142903Z"
        },
        "papermill": {
          "duration": 0.065427,
          "end_time": "2022-06-19T18:06:57.146003",
          "exception": false,
          "start_time": "2022-06-19T18:06:57.080576",
          "status": "completed"
        },
        "tags": [],
        "id": "TeGrVTU3LcN5"
      },
      "execution_count": null,
      "outputs": []
    },
    {
      "cell_type": "code",
      "source": [
        "## ▪️ᴛʀᴀɴꜱᴘᴏꜱᴇ\n",
        "np.einsum('ji',a)"
      ],
      "metadata": {
        "execution": {
          "iopub.execute_input": "2022-06-19T18:06:57.25899Z",
          "iopub.status.busy": "2022-06-19T18:06:57.258605Z",
          "iopub.status.idle": "2022-06-19T18:06:57.264521Z",
          "shell.execute_reply": "2022-06-19T18:06:57.263835Z"
        },
        "papermill": {
          "duration": 0.065068,
          "end_time": "2022-06-19T18:06:57.266448",
          "exception": false,
          "start_time": "2022-06-19T18:06:57.20138",
          "status": "completed"
        },
        "tags": [],
        "id": "xGcu3lBbLcN6"
      },
      "execution_count": null,
      "outputs": []
    },
    {
      "cell_type": "code",
      "source": [
        "## ▪️ᴍᴀᴛʀɪx ᴍᴜʟᴛɪᴘɪᴄᴀᴛɪᴏɴ\n",
        "np.einsum('ij,jk',a,b)"
      ],
      "metadata": {
        "execution": {
          "iopub.execute_input": "2022-06-19T18:06:57.381002Z",
          "iopub.status.busy": "2022-06-19T18:06:57.380466Z",
          "iopub.status.idle": "2022-06-19T18:06:57.387651Z",
          "shell.execute_reply": "2022-06-19T18:06:57.386579Z"
        },
        "papermill": {
          "duration": 0.066951,
          "end_time": "2022-06-19T18:06:57.389891",
          "exception": false,
          "start_time": "2022-06-19T18:06:57.32294",
          "status": "completed"
        },
        "tags": [],
        "id": "wFrAQo3rLcN6"
      },
      "execution_count": null,
      "outputs": []
    },
    {
      "cell_type": "code",
      "source": [
        "##▪️ ꜱᴜᴍ ᴏꜰ ᴅɪᴀɢᴏɴᴀʟ\n",
        "np.einsum('ii',a)"
      ],
      "metadata": {
        "execution": {
          "iopub.execute_input": "2022-06-19T18:06:57.505572Z",
          "iopub.status.busy": "2022-06-19T18:06:57.505176Z",
          "iopub.status.idle": "2022-06-19T18:06:57.511022Z",
          "shell.execute_reply": "2022-06-19T18:06:57.510336Z"
        },
        "papermill": {
          "duration": 0.066188,
          "end_time": "2022-06-19T18:06:57.51307",
          "exception": false,
          "start_time": "2022-06-19T18:06:57.446882",
          "status": "completed"
        },
        "tags": [],
        "id": "zoG29ZxrLcN6"
      },
      "execution_count": null,
      "outputs": []
    },
    {
      "cell_type": "markdown",
      "source": [
        "***"
      ],
      "metadata": {
        "papermill": {
          "duration": 0.055921,
          "end_time": "2022-06-19T18:06:57.625481",
          "exception": false,
          "start_time": "2022-06-19T18:06:57.56956",
          "status": "completed"
        },
        "tags": [],
        "id": "yroym9AqLcN6"
      }
    },
    {
      "cell_type": "markdown",
      "source": [
        "## Statistical Analysis"
      ],
      "metadata": {
        "papermill": {
          "duration": 0.056362,
          "end_time": "2022-06-19T18:06:57.739571",
          "exception": false,
          "start_time": "2022-06-19T18:06:57.683209",
          "status": "completed"
        },
        "tags": [],
        "id": "6p0dTwtWLcN6"
      }
    },
    {
      "cell_type": "markdown",
      "source": [
        "### 43. Histogram\n",
        "It is an important statistical analysis function of NumPy that computes histogram values for a set of data."
      ],
      "metadata": {
        "papermill": {
          "duration": 0.056624,
          "end_time": "2022-06-19T18:06:57.852604",
          "exception": false,
          "start_time": "2022-06-19T18:06:57.79598",
          "status": "completed"
        },
        "tags": [],
        "id": "vFxNPh-iLcN6"
      }
    },
    {
      "cell_type": "code",
      "source": [
        "A = np.array([[3, 4, 5, 2],\n",
        "              [6, 7, 2, 6]])\n",
        "np.histogram(A)"
      ],
      "metadata": {
        "execution": {
          "iopub.execute_input": "2022-06-19T18:06:58.08594Z",
          "iopub.status.busy": "2022-06-19T18:06:58.085465Z",
          "iopub.status.idle": "2022-06-19T18:06:58.094887Z",
          "shell.execute_reply": "2022-06-19T18:06:58.093687Z"
        },
        "papermill": {
          "duration": 0.187333,
          "end_time": "2022-06-19T18:06:58.097166",
          "exception": false,
          "start_time": "2022-06-19T18:06:57.909833",
          "status": "completed"
        },
        "tags": [],
        "id": "VziSq5-bLcN6"
      },
      "execution_count": null,
      "outputs": []
    },
    {
      "cell_type": "markdown",
      "source": [
        "### 44. Percentile\n",
        "It computes the q-th percentile of the data along a specified axis.![1_c1hFE8QMcZYSpLP413Ijwg.png](attachment:e58175f3-cef3-4d05-88b7-3b16cb030ca8.png)\n",
        "\n",
        "**▪▶ Important params**<br>\n",
        "`a`: array like input.<br>\n",
        "`q`: percentile to compute.<br>\n",
        "`overwrite_input`: if true, then allow the input array to modify the intermediate calculation to save memory."
      ],
      "metadata": {
        "papermill": {
          "duration": 0.05707,
          "end_time": "2022-06-19T18:06:58.211616",
          "exception": false,
          "start_time": "2022-06-19T18:06:58.154546",
          "status": "completed"
        },
        "tags": [],
        "id": "nj12NYdMLcN6"
      }
    },
    {
      "cell_type": "code",
      "source": [
        "a = np.array([[2, 4, 6], [4, 8, 12]])\n",
        "np.percentile(a, 50)"
      ],
      "metadata": {
        "execution": {
          "iopub.execute_input": "2022-06-19T18:06:58.328009Z",
          "iopub.status.busy": "2022-06-19T18:06:58.32737Z",
          "iopub.status.idle": "2022-06-19T18:06:58.335782Z",
          "shell.execute_reply": "2022-06-19T18:06:58.334685Z"
        },
        "papermill": {
          "duration": 0.069425,
          "end_time": "2022-06-19T18:06:58.338071",
          "exception": false,
          "start_time": "2022-06-19T18:06:58.268646",
          "status": "completed"
        },
        "tags": [],
        "id": "YSizbPZOLcN6"
      },
      "execution_count": null,
      "outputs": []
    },
    {
      "cell_type": "code",
      "source": [
        "np.percentile(a, 10)"
      ],
      "metadata": {
        "execution": {
          "iopub.execute_input": "2022-06-19T18:06:58.453318Z",
          "iopub.status.busy": "2022-06-19T18:06:58.45294Z",
          "iopub.status.idle": "2022-06-19T18:06:58.459392Z",
          "shell.execute_reply": "2022-06-19T18:06:58.458498Z"
        },
        "papermill": {
          "duration": 0.066277,
          "end_time": "2022-06-19T18:06:58.461471",
          "exception": false,
          "start_time": "2022-06-19T18:06:58.395194",
          "status": "completed"
        },
        "tags": [],
        "id": "PV5S9pfvLcN7"
      },
      "execution_count": null,
      "outputs": []
    },
    {
      "cell_type": "code",
      "source": [
        "arr = np.array([2,3,4,1,6,7])\n",
        "np.percentile(a,5)"
      ],
      "metadata": {
        "execution": {
          "iopub.execute_input": "2022-06-19T18:06:58.575788Z",
          "iopub.status.busy": "2022-06-19T18:06:58.57537Z",
          "iopub.status.idle": "2022-06-19T18:06:58.583648Z",
          "shell.execute_reply": "2022-06-19T18:06:58.582365Z"
        },
        "papermill": {
          "duration": 0.068442,
          "end_time": "2022-06-19T18:06:58.586142",
          "exception": false,
          "start_time": "2022-06-19T18:06:58.5177",
          "status": "completed"
        },
        "tags": [],
        "id": "8KpjxwJRLcN7"
      },
      "execution_count": null,
      "outputs": []
    },
    {
      "cell_type": "markdown",
      "source": [
        "### 45. Standard Deviation and Variance\n",
        "std and var are two functions of NumPy that calculates standard deviation and variance along an axis."
      ],
      "metadata": {
        "papermill": {
          "duration": 0.055875,
          "end_time": "2022-06-19T18:06:58.700022",
          "exception": false,
          "start_time": "2022-06-19T18:06:58.644147",
          "status": "completed"
        },
        "tags": [],
        "id": "V_eUfZHCLcN7"
      }
    },
    {
      "cell_type": "code",
      "source": [
        "a = np.array([[2, 4, 6], [4, 8, 12]])"
      ],
      "metadata": {
        "execution": {
          "iopub.execute_input": "2022-06-19T18:06:58.81439Z",
          "iopub.status.busy": "2022-06-19T18:06:58.813997Z",
          "iopub.status.idle": "2022-06-19T18:06:58.818782Z",
          "shell.execute_reply": "2022-06-19T18:06:58.817943Z"
        },
        "papermill": {
          "duration": 0.064781,
          "end_time": "2022-06-19T18:06:58.82099",
          "exception": false,
          "start_time": "2022-06-19T18:06:58.756209",
          "status": "completed"
        },
        "tags": [],
        "id": "W9jCiSdZLcN7"
      },
      "execution_count": null,
      "outputs": []
    },
    {
      "cell_type": "code",
      "source": [
        "np.std(a,axis=1)    ## Row Wise"
      ],
      "metadata": {
        "execution": {
          "iopub.execute_input": "2022-06-19T18:06:58.93697Z",
          "iopub.status.busy": "2022-06-19T18:06:58.936567Z",
          "iopub.status.idle": "2022-06-19T18:06:58.943316Z",
          "shell.execute_reply": "2022-06-19T18:06:58.94217Z"
        },
        "papermill": {
          "duration": 0.067412,
          "end_time": "2022-06-19T18:06:58.945655",
          "exception": false,
          "start_time": "2022-06-19T18:06:58.878243",
          "status": "completed"
        },
        "tags": [],
        "id": "Dc2VF3WALcN7"
      },
      "execution_count": null,
      "outputs": []
    },
    {
      "cell_type": "code",
      "source": [
        "np.std(a,axis=0)    ## Column Wise"
      ],
      "metadata": {
        "execution": {
          "iopub.execute_input": "2022-06-19T18:06:59.061011Z",
          "iopub.status.busy": "2022-06-19T18:06:59.060591Z",
          "iopub.status.idle": "2022-06-19T18:06:59.067976Z",
          "shell.execute_reply": "2022-06-19T18:06:59.066914Z"
        },
        "papermill": {
          "duration": 0.067905,
          "end_time": "2022-06-19T18:06:59.070376",
          "exception": false,
          "start_time": "2022-06-19T18:06:59.002471",
          "status": "completed"
        },
        "tags": [],
        "id": "FLgbQpTPLcN7"
      },
      "execution_count": null,
      "outputs": []
    },
    {
      "cell_type": "code",
      "source": [
        "np.var(a,axis=1)"
      ],
      "metadata": {
        "execution": {
          "iopub.execute_input": "2022-06-19T18:06:59.186936Z",
          "iopub.status.busy": "2022-06-19T18:06:59.186518Z",
          "iopub.status.idle": "2022-06-19T18:06:59.192973Z",
          "shell.execute_reply": "2022-06-19T18:06:59.192242Z"
        },
        "papermill": {
          "duration": 0.067132,
          "end_time": "2022-06-19T18:06:59.195032",
          "exception": false,
          "start_time": "2022-06-19T18:06:59.1279",
          "status": "completed"
        },
        "tags": [],
        "id": "6k2R1pikLcN7"
      },
      "execution_count": null,
      "outputs": []
    },
    {
      "cell_type": "code",
      "source": [
        "np.var(a,axis=0)"
      ],
      "metadata": {
        "execution": {
          "iopub.execute_input": "2022-06-19T18:06:59.311952Z",
          "iopub.status.busy": "2022-06-19T18:06:59.311563Z",
          "iopub.status.idle": "2022-06-19T18:06:59.318108Z",
          "shell.execute_reply": "2022-06-19T18:06:59.317041Z"
        },
        "papermill": {
          "duration": 0.068247,
          "end_time": "2022-06-19T18:06:59.320407",
          "exception": false,
          "start_time": "2022-06-19T18:06:59.25216",
          "status": "completed"
        },
        "tags": [],
        "id": "abchylmNLcN8"
      },
      "execution_count": null,
      "outputs": []
    },
    {
      "cell_type": "markdown",
      "source": [
        "***"
      ],
      "metadata": {
        "papermill": {
          "duration": 0.057624,
          "end_time": "2022-06-19T18:06:59.43577",
          "exception": false,
          "start_time": "2022-06-19T18:06:59.378146",
          "status": "completed"
        },
        "tags": [],
        "id": "3H--e9olLcN8"
      }
    },
    {
      "cell_type": "markdown",
      "source": [
        "## Array Printing Options"
      ],
      "metadata": {
        "papermill": {
          "duration": 0.056843,
          "end_time": "2022-06-19T18:06:59.550623",
          "exception": false,
          "start_time": "2022-06-19T18:06:59.49378",
          "status": "completed"
        },
        "tags": [],
        "id": "sbDTEF5OLcN8"
      }
    },
    {
      "cell_type": "markdown",
      "source": [
        "### 46. Show Floats With Two Decimal Values"
      ],
      "metadata": {
        "papermill": {
          "duration": 0.058658,
          "end_time": "2022-06-19T18:06:59.667998",
          "exception": false,
          "start_time": "2022-06-19T18:06:59.60934",
          "status": "completed"
        },
        "tags": [],
        "id": "yWggzGYKLcN8"
      }
    },
    {
      "cell_type": "code",
      "source": [
        "np.set_printoptions(precision=2)\n",
        "a = np.array([12.23456,32.34535])\n",
        "print(a)"
      ],
      "metadata": {
        "execution": {
          "iopub.execute_input": "2022-06-19T18:06:59.785919Z",
          "iopub.status.busy": "2022-06-19T18:06:59.785371Z",
          "iopub.status.idle": "2022-06-19T18:06:59.791217Z",
          "shell.execute_reply": "2022-06-19T18:06:59.789782Z"
        },
        "papermill": {
          "duration": 0.067002,
          "end_time": "2022-06-19T18:06:59.793271",
          "exception": false,
          "start_time": "2022-06-19T18:06:59.726269",
          "status": "completed"
        },
        "tags": [],
        "id": "lFjUE8dkLcN8"
      },
      "execution_count": null,
      "outputs": []
    },
    {
      "cell_type": "markdown",
      "source": [
        "### 47. Prints Array To Its Max"
      ],
      "metadata": {
        "papermill": {
          "duration": 0.057441,
          "end_time": "2022-06-19T18:06:59.908535",
          "exception": false,
          "start_time": "2022-06-19T18:06:59.851094",
          "status": "completed"
        },
        "tags": [],
        "id": "VrFcDFlFLcN8"
      }
    },
    {
      "cell_type": "code",
      "source": [
        "np.set_printoptions(threshold=np.inf)"
      ],
      "metadata": {
        "execution": {
          "iopub.execute_input": "2022-06-19T18:07:00.025897Z",
          "iopub.status.busy": "2022-06-19T18:07:00.025357Z",
          "iopub.status.idle": "2022-06-19T18:07:00.029508Z",
          "shell.execute_reply": "2022-06-19T18:07:00.028721Z"
        },
        "papermill": {
          "duration": 0.065466,
          "end_time": "2022-06-19T18:07:00.031532",
          "exception": false,
          "start_time": "2022-06-19T18:06:59.966066",
          "status": "completed"
        },
        "tags": [],
        "id": "QxgIaHgILcN8"
      },
      "execution_count": null,
      "outputs": []
    },
    {
      "cell_type": "markdown",
      "source": [
        "### 48. Increase The Number of Elements In a Line"
      ],
      "metadata": {
        "papermill": {
          "duration": 0.057839,
          "end_time": "2022-06-19T18:07:00.147011",
          "exception": false,
          "start_time": "2022-06-19T18:07:00.089172",
          "status": "completed"
        },
        "tags": [],
        "id": "vmmavxCQLcN8"
      }
    },
    {
      "cell_type": "code",
      "source": [
        "np.set_printoptions(linewidth=100) ## Default 75"
      ],
      "metadata": {
        "execution": {
          "iopub.execute_input": "2022-06-19T18:07:00.264929Z",
          "iopub.status.busy": "2022-06-19T18:07:00.264362Z",
          "iopub.status.idle": "2022-06-19T18:07:00.268213Z",
          "shell.execute_reply": "2022-06-19T18:07:00.267512Z"
        },
        "papermill": {
          "duration": 0.064984,
          "end_time": "2022-06-19T18:07:00.270203",
          "exception": false,
          "start_time": "2022-06-19T18:07:00.205219",
          "status": "completed"
        },
        "tags": [],
        "id": "kB9ffP3ELcN8"
      },
      "execution_count": null,
      "outputs": []
    },
    {
      "cell_type": "markdown",
      "source": [
        "***"
      ],
      "metadata": {
        "papermill": {
          "duration": 0.057755,
          "end_time": "2022-06-19T18:07:00.385925",
          "exception": false,
          "start_time": "2022-06-19T18:07:00.32817",
          "status": "completed"
        },
        "tags": [],
        "id": "Eib4_oR6LcN9"
      }
    },
    {
      "cell_type": "markdown",
      "source": [
        "## Save and Load Array Data"
      ],
      "metadata": {
        "papermill": {
          "duration": 0.057848,
          "end_time": "2022-06-19T18:07:00.503074",
          "exception": false,
          "start_time": "2022-06-19T18:07:00.445226",
          "status": "completed"
        },
        "tags": [],
        "id": "Ctm_nVi9LcN9"
      }
    },
    {
      "cell_type": "markdown",
      "source": [
        "### 49. Save\n",
        "`savetxt` used to save the content of an array inside a text file."
      ],
      "metadata": {
        "papermill": {
          "duration": 0.057351,
          "end_time": "2022-06-19T18:07:00.618083",
          "exception": false,
          "start_time": "2022-06-19T18:07:00.560732",
          "status": "completed"
        },
        "tags": [],
        "id": "E8wRn5tNLcN9"
      }
    },
    {
      "cell_type": "code",
      "source": [
        "''' Generate array with 500 elements '''\n",
        "\n",
        "arr = np.linspace(10,100,500).reshape(25,20)\n",
        "\n",
        "##◾ 𝗦𝗮𝘃𝗲𝘀 𝗔𝗿𝗿𝗮𝘆 𝗗𝗮𝘁𝗮 𝗜𝗻𝘀𝗶𝗱𝗲 𝗮 𝘁𝘅𝘁 𝗙𝗶𝗹𝗲\n",
        "np.savetxt('array.txt',arr)"
      ],
      "metadata": {
        "execution": {
          "iopub.execute_input": "2022-06-19T18:07:00.735557Z",
          "iopub.status.busy": "2022-06-19T18:07:00.735025Z",
          "iopub.status.idle": "2022-06-19T18:07:00.741033Z",
          "shell.execute_reply": "2022-06-19T18:07:00.740267Z"
        },
        "papermill": {
          "duration": 0.066932,
          "end_time": "2022-06-19T18:07:00.743058",
          "exception": false,
          "start_time": "2022-06-19T18:07:00.676126",
          "status": "completed"
        },
        "tags": [],
        "id": "hu62CQSALcN9"
      },
      "execution_count": null,
      "outputs": []
    },
    {
      "cell_type": "markdown",
      "source": [
        "### 50. Load\n",
        "`loadtxt` used to load the content of an array from a text file. It takes the file name as a parameter."
      ],
      "metadata": {
        "papermill": {
          "duration": 0.108082,
          "end_time": "2022-06-19T18:07:00.908673",
          "exception": false,
          "start_time": "2022-06-19T18:07:00.800591",
          "status": "completed"
        },
        "tags": [],
        "id": "g9x0BNLYLcN9"
      }
    },
    {
      "cell_type": "code",
      "source": [
        "### ◾𝗟𝗼𝗮𝗱𝘀 𝗔𝗿𝗿𝗮𝘆 𝗗𝗮𝘁𝗮 𝗳𝗿𝗼𝗺 𝗮 𝘁𝘅𝘁 𝗙𝗶𝗹𝗲\n",
        "np.loadtxt('array.txt')"
      ],
      "metadata": {
        "execution": {
          "iopub.execute_input": "2022-06-19T18:07:01.025599Z",
          "iopub.status.busy": "2022-06-19T18:07:01.024911Z",
          "iopub.status.idle": "2022-06-19T18:07:01.039144Z",
          "shell.execute_reply": "2022-06-19T18:07:01.038119Z"
        },
        "papermill": {
          "duration": 0.074851,
          "end_time": "2022-06-19T18:07:01.041312",
          "exception": false,
          "start_time": "2022-06-19T18:07:00.966461",
          "status": "completed"
        },
        "tags": [],
        "id": "sBuP854gLcN9"
      },
      "execution_count": null,
      "outputs": []
    },
    {
      "cell_type": "markdown",
      "source": [
        "## Thanks For Reading\n",
        "I hope You Found Someting useful.\n",
        "\n",
        "### Don't Forgot to give the notebook a 🔼"
      ],
      "metadata": {
        "papermill": {
          "duration": 0.057713,
          "end_time": "2022-06-19T18:07:01.156275",
          "exception": false,
          "start_time": "2022-06-19T18:07:01.098562",
          "status": "completed"
        },
        "tags": [],
        "id": "WCrFAWRkLcN-"
      }
    },
    {
      "cell_type": "markdown",
      "source": [
        "### **----Check Out My Other Notebooks As Well---**\n",
        "\n",
        "[Feature Engineering - Handling Missing Values](https://www.kaggle.com/code/abhayparashar31/feature-engineering-handling-missing-values)<br>\n",
        "[Spaceship Titanic Complete Analysis + Prediction Using Plotly & XGBClassifier](https://www.kaggle.com/code/abhayparashar31/spaceship-titanic-complete-analysis-prediction)"
      ],
      "metadata": {
        "papermill": {
          "duration": 0.056467,
          "end_time": "2022-06-19T18:07:01.274223",
          "exception": false,
          "start_time": "2022-06-19T18:07:01.217756",
          "status": "completed"
        },
        "tags": [],
        "id": "OnJQZh1cLcN-"
      }
    }
  ]
}